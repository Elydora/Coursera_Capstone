{
 "cells": [
  {
   "cell_type": "code",
   "execution_count": 117,
   "metadata": {
    "collapsed": true
   },
   "outputs": [],
   "source": [
    "import pandas as pd"
   ]
  },
  {
   "cell_type": "code",
   "execution_count": 118,
   "outputs": [
    {
     "data": {
      "text/plain": "    Cluster Label  Zip Code             City  \\\n0               4     90011      Los Angeles   \n1               4     90019      Los Angeles   \n2               4     90022      Los Angeles   \n3               4     90026      Los Angeles   \n4               4     90044      Los Angeles   \n5               4     90201             Bell   \n6               4     90250        Hawthorne   \n7               4     90255  Huntington Park   \n8               4     90262          Lynwood   \n9               4     90280       South Gate   \n10              4     90650          Norwalk   \n11              4     90706       Bellflower   \n12              4     90805       Long Beach   \n13              4     91331          Pacoima   \n14              4     91335           Reseda   \n\n                                            Community  \\\n0                 Los Angeles (Southeast Los Angeles)   \n1   Los Angeles (Arlington Heights, Country Club P...   \n2                                    East Los Angeles   \n3                Los Angeles (Echo Park, Silver Lake)   \n4             Athens, Los Angeles (South Los Angeles)   \n5                          Bell, Bell Gardens, Cudahy   \n6                              Hawthorne (Holly Park)   \n7                        Huntington Park, Walnut Park   \n8                                             Lynwood   \n9                                          South Gate   \n10                                            Norwalk   \n11                                         Bellflower   \n12                      Long Beach (North Long Beach)   \n13        Los Angeles (Arleta, Hansen Hills, Pacoima)   \n14                               Los Angeles (Reseda)   \n\n    Estimated Median Income  Longitude   Latitude  Total Population  \\\n0                     40940 -118.25868  34.007063            103892   \n1                     56389 -118.34015  34.048411             64458   \n2                     46051 -118.15581  34.023662             67179   \n3                     65269 -118.26596  34.078510             67869   \n4                     35981 -118.29158  33.953814             89779   \n5                     44046 -118.17385  33.972814            101279   \n6                     56304 -118.35092  33.914614             93193   \n7                     44962 -118.21773  33.978404             75066   \n8                     52313 -118.20186  33.924642             69745   \n9                     52321 -118.19490  33.944264             94396   \n10                    70667 -118.08339  33.906914            105549   \n11                    60011 -118.12760  33.888165             76615   \n12                    50914 -118.18362  33.865916             93524   \n13                    63807 -118.42406  34.254751            103689   \n14                    63748 -118.54099  34.200104             74363   \n\n    Median Age  Total Males  Total Females  Total Households  \\\n0         26.2        52794          51098             22168   \n1         35.8        31442          33016             23344   \n2         29.8        33216          33963             17023   \n3         34.0        34515          33354             24956   \n4         28.6        43128          46651             25144   \n5         27.8        50658          50621             24104   \n6         31.9        45113          48080             31087   \n7         29.1        37525          37541             18419   \n8         27.8        33919          35826             14669   \n9         29.4        46321          48075             23278   \n10        32.5        52364          53185             27130   \n11        31.9        37203          39412             23650   \n12        29.0        45229          48295             26056   \n13        29.5        52358          51331             22465   \n14        35.5        36596          37767             22855   \n\n    Average Household Size      Factor  \n0                     4.67  4253338480  \n1                     2.70  3634722162  \n2                     3.94  3093660129  \n3                     2.68  4429741761  \n4                     3.55  3230338199  \n5                     4.16  4460934834  \n6                     2.98  5247138672  \n7                     4.06  3375117492  \n8                     4.57  3648570185  \n9                     4.05  4938893116  \n10                    3.83  7458831183  \n11                    3.21  4597742765  \n12                    3.56  4761680936  \n13                    4.60  6616084023  \n14                    3.21  4740492524  ",
      "text/html": "<div>\n<style scoped>\n    .dataframe tbody tr th:only-of-type {\n        vertical-align: middle;\n    }\n\n    .dataframe tbody tr th {\n        vertical-align: top;\n    }\n\n    .dataframe thead th {\n        text-align: right;\n    }\n</style>\n<table border=\"1\" class=\"dataframe\">\n  <thead>\n    <tr style=\"text-align: right;\">\n      <th></th>\n      <th>Cluster Label</th>\n      <th>Zip Code</th>\n      <th>City</th>\n      <th>Community</th>\n      <th>Estimated Median Income</th>\n      <th>Longitude</th>\n      <th>Latitude</th>\n      <th>Total Population</th>\n      <th>Median Age</th>\n      <th>Total Males</th>\n      <th>Total Females</th>\n      <th>Total Households</th>\n      <th>Average Household Size</th>\n      <th>Factor</th>\n    </tr>\n  </thead>\n  <tbody>\n    <tr>\n      <th>0</th>\n      <td>4</td>\n      <td>90011</td>\n      <td>Los Angeles</td>\n      <td>Los Angeles (Southeast Los Angeles)</td>\n      <td>40940</td>\n      <td>-118.25868</td>\n      <td>34.007063</td>\n      <td>103892</td>\n      <td>26.2</td>\n      <td>52794</td>\n      <td>51098</td>\n      <td>22168</td>\n      <td>4.67</td>\n      <td>4253338480</td>\n    </tr>\n    <tr>\n      <th>1</th>\n      <td>4</td>\n      <td>90019</td>\n      <td>Los Angeles</td>\n      <td>Los Angeles (Arlington Heights, Country Club P...</td>\n      <td>56389</td>\n      <td>-118.34015</td>\n      <td>34.048411</td>\n      <td>64458</td>\n      <td>35.8</td>\n      <td>31442</td>\n      <td>33016</td>\n      <td>23344</td>\n      <td>2.70</td>\n      <td>3634722162</td>\n    </tr>\n    <tr>\n      <th>2</th>\n      <td>4</td>\n      <td>90022</td>\n      <td>Los Angeles</td>\n      <td>East Los Angeles</td>\n      <td>46051</td>\n      <td>-118.15581</td>\n      <td>34.023662</td>\n      <td>67179</td>\n      <td>29.8</td>\n      <td>33216</td>\n      <td>33963</td>\n      <td>17023</td>\n      <td>3.94</td>\n      <td>3093660129</td>\n    </tr>\n    <tr>\n      <th>3</th>\n      <td>4</td>\n      <td>90026</td>\n      <td>Los Angeles</td>\n      <td>Los Angeles (Echo Park, Silver Lake)</td>\n      <td>65269</td>\n      <td>-118.26596</td>\n      <td>34.078510</td>\n      <td>67869</td>\n      <td>34.0</td>\n      <td>34515</td>\n      <td>33354</td>\n      <td>24956</td>\n      <td>2.68</td>\n      <td>4429741761</td>\n    </tr>\n    <tr>\n      <th>4</th>\n      <td>4</td>\n      <td>90044</td>\n      <td>Los Angeles</td>\n      <td>Athens, Los Angeles (South Los Angeles)</td>\n      <td>35981</td>\n      <td>-118.29158</td>\n      <td>33.953814</td>\n      <td>89779</td>\n      <td>28.6</td>\n      <td>43128</td>\n      <td>46651</td>\n      <td>25144</td>\n      <td>3.55</td>\n      <td>3230338199</td>\n    </tr>\n    <tr>\n      <th>5</th>\n      <td>4</td>\n      <td>90201</td>\n      <td>Bell</td>\n      <td>Bell, Bell Gardens, Cudahy</td>\n      <td>44046</td>\n      <td>-118.17385</td>\n      <td>33.972814</td>\n      <td>101279</td>\n      <td>27.8</td>\n      <td>50658</td>\n      <td>50621</td>\n      <td>24104</td>\n      <td>4.16</td>\n      <td>4460934834</td>\n    </tr>\n    <tr>\n      <th>6</th>\n      <td>4</td>\n      <td>90250</td>\n      <td>Hawthorne</td>\n      <td>Hawthorne (Holly Park)</td>\n      <td>56304</td>\n      <td>-118.35092</td>\n      <td>33.914614</td>\n      <td>93193</td>\n      <td>31.9</td>\n      <td>45113</td>\n      <td>48080</td>\n      <td>31087</td>\n      <td>2.98</td>\n      <td>5247138672</td>\n    </tr>\n    <tr>\n      <th>7</th>\n      <td>4</td>\n      <td>90255</td>\n      <td>Huntington Park</td>\n      <td>Huntington Park, Walnut Park</td>\n      <td>44962</td>\n      <td>-118.21773</td>\n      <td>33.978404</td>\n      <td>75066</td>\n      <td>29.1</td>\n      <td>37525</td>\n      <td>37541</td>\n      <td>18419</td>\n      <td>4.06</td>\n      <td>3375117492</td>\n    </tr>\n    <tr>\n      <th>8</th>\n      <td>4</td>\n      <td>90262</td>\n      <td>Lynwood</td>\n      <td>Lynwood</td>\n      <td>52313</td>\n      <td>-118.20186</td>\n      <td>33.924642</td>\n      <td>69745</td>\n      <td>27.8</td>\n      <td>33919</td>\n      <td>35826</td>\n      <td>14669</td>\n      <td>4.57</td>\n      <td>3648570185</td>\n    </tr>\n    <tr>\n      <th>9</th>\n      <td>4</td>\n      <td>90280</td>\n      <td>South Gate</td>\n      <td>South Gate</td>\n      <td>52321</td>\n      <td>-118.19490</td>\n      <td>33.944264</td>\n      <td>94396</td>\n      <td>29.4</td>\n      <td>46321</td>\n      <td>48075</td>\n      <td>23278</td>\n      <td>4.05</td>\n      <td>4938893116</td>\n    </tr>\n    <tr>\n      <th>10</th>\n      <td>4</td>\n      <td>90650</td>\n      <td>Norwalk</td>\n      <td>Norwalk</td>\n      <td>70667</td>\n      <td>-118.08339</td>\n      <td>33.906914</td>\n      <td>105549</td>\n      <td>32.5</td>\n      <td>52364</td>\n      <td>53185</td>\n      <td>27130</td>\n      <td>3.83</td>\n      <td>7458831183</td>\n    </tr>\n    <tr>\n      <th>11</th>\n      <td>4</td>\n      <td>90706</td>\n      <td>Bellflower</td>\n      <td>Bellflower</td>\n      <td>60011</td>\n      <td>-118.12760</td>\n      <td>33.888165</td>\n      <td>76615</td>\n      <td>31.9</td>\n      <td>37203</td>\n      <td>39412</td>\n      <td>23650</td>\n      <td>3.21</td>\n      <td>4597742765</td>\n    </tr>\n    <tr>\n      <th>12</th>\n      <td>4</td>\n      <td>90805</td>\n      <td>Long Beach</td>\n      <td>Long Beach (North Long Beach)</td>\n      <td>50914</td>\n      <td>-118.18362</td>\n      <td>33.865916</td>\n      <td>93524</td>\n      <td>29.0</td>\n      <td>45229</td>\n      <td>48295</td>\n      <td>26056</td>\n      <td>3.56</td>\n      <td>4761680936</td>\n    </tr>\n    <tr>\n      <th>13</th>\n      <td>4</td>\n      <td>91331</td>\n      <td>Pacoima</td>\n      <td>Los Angeles (Arleta, Hansen Hills, Pacoima)</td>\n      <td>63807</td>\n      <td>-118.42406</td>\n      <td>34.254751</td>\n      <td>103689</td>\n      <td>29.5</td>\n      <td>52358</td>\n      <td>51331</td>\n      <td>22465</td>\n      <td>4.60</td>\n      <td>6616084023</td>\n    </tr>\n    <tr>\n      <th>14</th>\n      <td>4</td>\n      <td>91335</td>\n      <td>Reseda</td>\n      <td>Los Angeles (Reseda)</td>\n      <td>63748</td>\n      <td>-118.54099</td>\n      <td>34.200104</td>\n      <td>74363</td>\n      <td>35.5</td>\n      <td>36596</td>\n      <td>37767</td>\n      <td>22855</td>\n      <td>3.21</td>\n      <td>4740492524</td>\n    </tr>\n  </tbody>\n</table>\n</div>"
     },
     "execution_count": 118,
     "metadata": {},
     "output_type": "execute_result"
    }
   ],
   "source": [
    "cluster4 = pd.read_csv('cluster4.csv', index_col=0)\n",
    "#cluster4.drop(cluster4.loc[1], inplace=True)\n",
    "cluster4.reset_index(drop = True, inplace=True)\n",
    "cluster4.head(15)"
   ],
   "metadata": {
    "collapsed": false,
    "pycharm": {
     "name": "#%%\n"
    }
   }
  },
  {
   "cell_type": "code",
   "execution_count": 119,
   "outputs": [],
   "source": [
    "import foursquare\n",
    "import requests\n",
    "CLIENT_ID = foursquare.CLIENT_ID\n",
    "CLIENT_SECRET = foursquare.CLIENT_SECRET\n",
    "VERSION = '20210501' # Foursquare API version\n",
    "LIMIT = 100 # A default Foursquare API limit value"
   ],
   "metadata": {
    "collapsed": false,
    "pycharm": {
     "name": "#%%\n"
    }
   }
  },
  {
   "cell_type": "code",
   "execution_count": 120,
   "outputs": [],
   "source": [
    "record = cluster4.iloc[10]"
   ],
   "metadata": {
    "collapsed": false,
    "pycharm": {
     "name": "#%%\n"
    }
   }
  },
  {
   "cell_type": "code",
   "execution_count": 160,
   "outputs": [
    {
     "data": {
      "text/plain": "Zip Code              141\nCommunity             141\nZip Code Latitude     141\nZip Code Longitude    141\nVenue                 141\nVenue Category        141\nCity                  141\nPostalCode            141\ndtype: int64"
     },
     "execution_count": 160,
     "metadata": {},
     "output_type": "execute_result"
    }
   ],
   "source": [
    "import itertools\n",
    "offset = 0\n",
    "venues_list=[]\n",
    "\n",
    "for _ in itertools.repeat(None, 4):\n",
    "    url = 'https://api.foursquare' \\\n",
    "          '.com/v2/venues/explore?&client_id={}&client_secret={}&v={}&ll={},' \\\n",
    "          '{}&radius={}&limit={}&offset={}&categoryId={}'.format(\n",
    "        CLIENT_ID,\n",
    "        CLIENT_SECRET,\n",
    "        VERSION,\n",
    "        record['Latitude'],\n",
    "        record['Longitude'],\n",
    "        4000,\n",
    "        50,\n",
    "        offset,\n",
    "        '4d4b7105d754a06374d81259')\n",
    "\n",
    "    offset += 50\n",
    "\n",
    "    # make the GET request\n",
    "   # try:\n",
    "    try:\n",
    "        #results = requests.get(url).json()[\"response\"]['venues']\n",
    "        results = requests.get(url).json()[\"response\"]['groups'][0]['items']\n",
    "        for v in results:\n",
    "            try:\n",
    "                city = v['venue']['location']['city']\n",
    "            except:\n",
    "                city = 'N. A.'\n",
    "\n",
    "            try:\n",
    "                postalCode = str(v['venue']['location']['postalCode'])\n",
    "            except:\n",
    "                postalCode = str(record['Zip Code'])\n",
    "\n",
    "            #if postalCode == str(record['Zip Code']):\n",
    "            venues_list.append((\n",
    "                        record['Zip Code'],\n",
    "                        record['Community'],\n",
    "                        record['Latitude'],\n",
    "                        record['Longitude'],\n",
    "                        v['venue']['name'],\n",
    "                        # v['venue']['location']['lat'],\n",
    "                        # v['venue']['location']['lng'],\n",
    "                        v['venue']['categories'][0]['name'],\n",
    "                        city, postalCode))\n",
    "    except:\n",
    "        print('done!')\n",
    "        break\n",
    "   # except:\n",
    "   #     print('done')\n",
    "\n",
    "\n",
    "#nearby_venues = pd.DataFrame([item for venue_list in venues_list for item in venue_list])\n",
    "nearby_venues = pd.DataFrame(venues_list, columns=['Zip Code', 'Community',\n",
    "              'Zip Code Latitude', 'Zip Code Longitude', 'Venue',\n",
    "              # 'Venue Latitude',\n",
    "              # 'Venue Longitude',\n",
    "              'Venue Category',\n",
    "              'City', 'PostalCode'])\n",
    "nearby_venues.count()"
   ],
   "metadata": {
    "collapsed": false,
    "pycharm": {
     "name": "#%%\n"
    }
   }
  },
  {
   "cell_type": "code",
   "execution_count": 161,
   "outputs": [
    {
     "data": {
      "text/plain": "74"
     },
     "execution_count": 161,
     "metadata": {},
     "output_type": "execute_result"
    }
   ],
   "source": [
    "import numpy as np\n",
    "np.sum(nearby_venues['City'] == 'Norwalk')\n",
    "#nearby_venues[nearby_venues['City']== 'Norwalk'].count()"
   ],
   "metadata": {
    "collapsed": false,
    "pycharm": {
     "name": "#%%\n"
    }
   }
  },
  {
   "cell_type": "code",
   "execution_count": 162,
   "outputs": [
    {
     "data": {
      "text/plain": "   Zip Code Community  Zip Code Latitude  Zip Code Longitude  \\\n0     90650   Norwalk          33.906914          -118.08339   \n1     90650   Norwalk          33.906914          -118.08339   \n2     90650   Norwalk          33.906914          -118.08339   \n3     90650   Norwalk          33.906914          -118.08339   \n4     90650   Norwalk          33.906914          -118.08339   \n\n                                           Venue        Venue Category  \\\n0                                In-N-Out Burger  Fast Food Restaurant   \n1                    Douglas Charbroiled Burgers   American Restaurant   \n2                           Noemi's Mexican Food    Mexican Restaurant   \n3  Los Compadres Mexican Restaurant & Sports Bar    Mexican Restaurant   \n4                               Tacos Los Gueros    Mexican Restaurant   \n\n      City PostalCode  \n0  Norwalk      90650  \n1  Norwalk      90650  \n2  Norwalk      90650  \n3  Norwalk      90650  \n4  Norwalk      90650  ",
      "text/html": "<div>\n<style scoped>\n    .dataframe tbody tr th:only-of-type {\n        vertical-align: middle;\n    }\n\n    .dataframe tbody tr th {\n        vertical-align: top;\n    }\n\n    .dataframe thead th {\n        text-align: right;\n    }\n</style>\n<table border=\"1\" class=\"dataframe\">\n  <thead>\n    <tr style=\"text-align: right;\">\n      <th></th>\n      <th>Zip Code</th>\n      <th>Community</th>\n      <th>Zip Code Latitude</th>\n      <th>Zip Code Longitude</th>\n      <th>Venue</th>\n      <th>Venue Category</th>\n      <th>City</th>\n      <th>PostalCode</th>\n    </tr>\n  </thead>\n  <tbody>\n    <tr>\n      <th>0</th>\n      <td>90650</td>\n      <td>Norwalk</td>\n      <td>33.906914</td>\n      <td>-118.08339</td>\n      <td>In-N-Out Burger</td>\n      <td>Fast Food Restaurant</td>\n      <td>Norwalk</td>\n      <td>90650</td>\n    </tr>\n    <tr>\n      <th>1</th>\n      <td>90650</td>\n      <td>Norwalk</td>\n      <td>33.906914</td>\n      <td>-118.08339</td>\n      <td>Douglas Charbroiled Burgers</td>\n      <td>American Restaurant</td>\n      <td>Norwalk</td>\n      <td>90650</td>\n    </tr>\n    <tr>\n      <th>2</th>\n      <td>90650</td>\n      <td>Norwalk</td>\n      <td>33.906914</td>\n      <td>-118.08339</td>\n      <td>Noemi's Mexican Food</td>\n      <td>Mexican Restaurant</td>\n      <td>Norwalk</td>\n      <td>90650</td>\n    </tr>\n    <tr>\n      <th>3</th>\n      <td>90650</td>\n      <td>Norwalk</td>\n      <td>33.906914</td>\n      <td>-118.08339</td>\n      <td>Los Compadres Mexican Restaurant &amp; Sports Bar</td>\n      <td>Mexican Restaurant</td>\n      <td>Norwalk</td>\n      <td>90650</td>\n    </tr>\n    <tr>\n      <th>4</th>\n      <td>90650</td>\n      <td>Norwalk</td>\n      <td>33.906914</td>\n      <td>-118.08339</td>\n      <td>Tacos Los Gueros</td>\n      <td>Mexican Restaurant</td>\n      <td>Norwalk</td>\n      <td>90650</td>\n    </tr>\n  </tbody>\n</table>\n</div>"
     },
     "execution_count": 162,
     "metadata": {},
     "output_type": "execute_result"
    }
   ],
   "source": [
    "nearby_venues.head()"
   ],
   "metadata": {
    "collapsed": false,
    "pycharm": {
     "name": "#%%\n"
    }
   }
  },
  {
   "cell_type": "code",
   "execution_count": 163,
   "outputs": [],
   "source": [
    "nearby_venues.to_csv(path_or_buf='norwalk_test.csv')"
   ],
   "metadata": {
    "collapsed": false,
    "pycharm": {
     "name": "#%%\n"
    }
   }
  },
  {
   "cell_type": "code",
   "execution_count": 168,
   "outputs": [
    {
     "data": {
      "text/plain": "   Zip Code Community  Zip Code Latitude  Zip Code Longitude  \\\n0     90650   Norwalk          33.906914          -118.08339   \n1     90650   Norwalk          33.906914          -118.08339   \n2     90650   Norwalk          33.906914          -118.08339   \n3     90650   Norwalk          33.906914          -118.08339   \n4     90650   Norwalk          33.906914          -118.08339   \n5     90650   Norwalk          33.906914          -118.08339   \n6     90650   Norwalk          33.906914          -118.08339   \n7     90650   Norwalk          33.906914          -118.08339   \n8     90650   Norwalk          33.906914          -118.08339   \n9     90650   Norwalk          33.906914          -118.08339   \n\n                                           Venue        Venue Category  \\\n0                                In-N-Out Burger  Fast Food Restaurant   \n1                    Douglas Charbroiled Burgers   American Restaurant   \n2                           Noemi's Mexican Food    Mexican Restaurant   \n3  Los Compadres Mexican Restaurant & Sports Bar    Mexican Restaurant   \n4                               Tacos Los Gueros    Mexican Restaurant   \n5                                     Señor Baja    Mexican Restaurant   \n6                                  Kung Pao Bowl    Chinese Restaurant   \n7                         The Habit Burger Grill          Burger Joint   \n8                                    Ho Ho China    Chinese Restaurant   \n9                                     Grill Town     Korean Restaurant   \n\n      City PostalCode  \n0  Norwalk      90650  \n1  Norwalk      90650  \n2  Norwalk      90650  \n3  Norwalk      90650  \n4  Norwalk      90650  \n5  Norwalk      90650  \n6  Norwalk      90650  \n7  Norwalk      90650  \n8  Norwalk      90650  \n9  Norwalk      90650  ",
      "text/html": "<div>\n<style scoped>\n    .dataframe tbody tr th:only-of-type {\n        vertical-align: middle;\n    }\n\n    .dataframe tbody tr th {\n        vertical-align: top;\n    }\n\n    .dataframe thead th {\n        text-align: right;\n    }\n</style>\n<table border=\"1\" class=\"dataframe\">\n  <thead>\n    <tr style=\"text-align: right;\">\n      <th></th>\n      <th>Zip Code</th>\n      <th>Community</th>\n      <th>Zip Code Latitude</th>\n      <th>Zip Code Longitude</th>\n      <th>Venue</th>\n      <th>Venue Category</th>\n      <th>City</th>\n      <th>PostalCode</th>\n    </tr>\n  </thead>\n  <tbody>\n    <tr>\n      <th>0</th>\n      <td>90650</td>\n      <td>Norwalk</td>\n      <td>33.906914</td>\n      <td>-118.08339</td>\n      <td>In-N-Out Burger</td>\n      <td>Fast Food Restaurant</td>\n      <td>Norwalk</td>\n      <td>90650</td>\n    </tr>\n    <tr>\n      <th>1</th>\n      <td>90650</td>\n      <td>Norwalk</td>\n      <td>33.906914</td>\n      <td>-118.08339</td>\n      <td>Douglas Charbroiled Burgers</td>\n      <td>American Restaurant</td>\n      <td>Norwalk</td>\n      <td>90650</td>\n    </tr>\n    <tr>\n      <th>2</th>\n      <td>90650</td>\n      <td>Norwalk</td>\n      <td>33.906914</td>\n      <td>-118.08339</td>\n      <td>Noemi's Mexican Food</td>\n      <td>Mexican Restaurant</td>\n      <td>Norwalk</td>\n      <td>90650</td>\n    </tr>\n    <tr>\n      <th>3</th>\n      <td>90650</td>\n      <td>Norwalk</td>\n      <td>33.906914</td>\n      <td>-118.08339</td>\n      <td>Los Compadres Mexican Restaurant &amp; Sports Bar</td>\n      <td>Mexican Restaurant</td>\n      <td>Norwalk</td>\n      <td>90650</td>\n    </tr>\n    <tr>\n      <th>4</th>\n      <td>90650</td>\n      <td>Norwalk</td>\n      <td>33.906914</td>\n      <td>-118.08339</td>\n      <td>Tacos Los Gueros</td>\n      <td>Mexican Restaurant</td>\n      <td>Norwalk</td>\n      <td>90650</td>\n    </tr>\n    <tr>\n      <th>5</th>\n      <td>90650</td>\n      <td>Norwalk</td>\n      <td>33.906914</td>\n      <td>-118.08339</td>\n      <td>Señor Baja</td>\n      <td>Mexican Restaurant</td>\n      <td>Norwalk</td>\n      <td>90650</td>\n    </tr>\n    <tr>\n      <th>6</th>\n      <td>90650</td>\n      <td>Norwalk</td>\n      <td>33.906914</td>\n      <td>-118.08339</td>\n      <td>Kung Pao Bowl</td>\n      <td>Chinese Restaurant</td>\n      <td>Norwalk</td>\n      <td>90650</td>\n    </tr>\n    <tr>\n      <th>7</th>\n      <td>90650</td>\n      <td>Norwalk</td>\n      <td>33.906914</td>\n      <td>-118.08339</td>\n      <td>The Habit Burger Grill</td>\n      <td>Burger Joint</td>\n      <td>Norwalk</td>\n      <td>90650</td>\n    </tr>\n    <tr>\n      <th>8</th>\n      <td>90650</td>\n      <td>Norwalk</td>\n      <td>33.906914</td>\n      <td>-118.08339</td>\n      <td>Ho Ho China</td>\n      <td>Chinese Restaurant</td>\n      <td>Norwalk</td>\n      <td>90650</td>\n    </tr>\n    <tr>\n      <th>9</th>\n      <td>90650</td>\n      <td>Norwalk</td>\n      <td>33.906914</td>\n      <td>-118.08339</td>\n      <td>Grill Town</td>\n      <td>Korean Restaurant</td>\n      <td>Norwalk</td>\n      <td>90650</td>\n    </tr>\n  </tbody>\n</table>\n</div>"
     },
     "execution_count": 168,
     "metadata": {},
     "output_type": "execute_result"
    }
   ],
   "source": [
    "#ppds = nearby_venues.drop(nearby_venues[nearby_venues['City'] !=\n",
    "#                             'Norwalk'].index)\n",
    "\n",
    "#ppds = nearby_venues[nearby_venues['PostalCode']=='9065']\n",
    "ppds = nearby_venues[nearby_venues['PostalCode'].str.contains(r'90650')]\n",
    "ppds.head(10)"
   ],
   "metadata": {
    "collapsed": false,
    "pycharm": {
     "name": "#%%\n"
    }
   }
  },
  {
   "cell_type": "code",
   "execution_count": 169,
   "outputs": [
    {
     "data": {
      "text/plain": "82"
     },
     "execution_count": 169,
     "metadata": {},
     "output_type": "execute_result"
    }
   ],
   "source": [
    "ppds['City'].count()"
   ],
   "metadata": {
    "collapsed": false,
    "pycharm": {
     "name": "#%%\n"
    }
   }
  },
  {
   "cell_type": "code",
   "execution_count": 170,
   "outputs": [],
   "source": [
    "#ppds.to_csv(path_or_buf='nearby_venues_3500.csv')\n",
    "ppds.to_csv(path_or_buf='ppds.csv')"
   ],
   "metadata": {
    "collapsed": false,
    "pycharm": {
     "name": "#%%\n"
    }
   }
  },
  {
   "cell_type": "code",
   "execution_count": 171,
   "outputs": [
    {
     "data": {
      "text/plain": "                     Zip Code      \n                         mean count\nVenue Category                     \nFast Food Restaurant    90650    14\nMexican Restaurant      90650    12\nSandwich Place          90650     8\nPizza Place             90650     7\nChinese Restaurant      90650     6\nAmerican Restaurant     90650     5\nDonut Shop              90650     5\nAsian Restaurant        90650     4\nFood Truck              90650     4\nBakery                  90650     2\nBurger Joint            90650     2\nThai Restaurant         90650     1\nTaco Place              90650     1\nSushi Restaurant        90650     1\nSteakhouse              90650     1\nFood Court              90650     1\nKorean Restaurant       90650     1\nFried Chicken Joint     90650     1\nFood                    90650     1\nFish & Chips Shop       90650     1\nDonburi Restaurant      90650     1\nBuffet                  90650     1\nBreakfast Spot          90650     1\nWings Joint             90650     1",
      "text/html": "<div>\n<style scoped>\n    .dataframe tbody tr th:only-of-type {\n        vertical-align: middle;\n    }\n\n    .dataframe tbody tr th {\n        vertical-align: top;\n    }\n\n    .dataframe thead tr th {\n        text-align: left;\n    }\n\n    .dataframe thead tr:last-of-type th {\n        text-align: right;\n    }\n</style>\n<table border=\"1\" class=\"dataframe\">\n  <thead>\n    <tr>\n      <th></th>\n      <th colspan=\"2\" halign=\"left\">Zip Code</th>\n    </tr>\n    <tr>\n      <th></th>\n      <th>mean</th>\n      <th>count</th>\n    </tr>\n    <tr>\n      <th>Venue Category</th>\n      <th></th>\n      <th></th>\n    </tr>\n  </thead>\n  <tbody>\n    <tr>\n      <th>Fast Food Restaurant</th>\n      <td>90650</td>\n      <td>14</td>\n    </tr>\n    <tr>\n      <th>Mexican Restaurant</th>\n      <td>90650</td>\n      <td>12</td>\n    </tr>\n    <tr>\n      <th>Sandwich Place</th>\n      <td>90650</td>\n      <td>8</td>\n    </tr>\n    <tr>\n      <th>Pizza Place</th>\n      <td>90650</td>\n      <td>7</td>\n    </tr>\n    <tr>\n      <th>Chinese Restaurant</th>\n      <td>90650</td>\n      <td>6</td>\n    </tr>\n    <tr>\n      <th>American Restaurant</th>\n      <td>90650</td>\n      <td>5</td>\n    </tr>\n    <tr>\n      <th>Donut Shop</th>\n      <td>90650</td>\n      <td>5</td>\n    </tr>\n    <tr>\n      <th>Asian Restaurant</th>\n      <td>90650</td>\n      <td>4</td>\n    </tr>\n    <tr>\n      <th>Food Truck</th>\n      <td>90650</td>\n      <td>4</td>\n    </tr>\n    <tr>\n      <th>Bakery</th>\n      <td>90650</td>\n      <td>2</td>\n    </tr>\n    <tr>\n      <th>Burger Joint</th>\n      <td>90650</td>\n      <td>2</td>\n    </tr>\n    <tr>\n      <th>Thai Restaurant</th>\n      <td>90650</td>\n      <td>1</td>\n    </tr>\n    <tr>\n      <th>Taco Place</th>\n      <td>90650</td>\n      <td>1</td>\n    </tr>\n    <tr>\n      <th>Sushi Restaurant</th>\n      <td>90650</td>\n      <td>1</td>\n    </tr>\n    <tr>\n      <th>Steakhouse</th>\n      <td>90650</td>\n      <td>1</td>\n    </tr>\n    <tr>\n      <th>Food Court</th>\n      <td>90650</td>\n      <td>1</td>\n    </tr>\n    <tr>\n      <th>Korean Restaurant</th>\n      <td>90650</td>\n      <td>1</td>\n    </tr>\n    <tr>\n      <th>Fried Chicken Joint</th>\n      <td>90650</td>\n      <td>1</td>\n    </tr>\n    <tr>\n      <th>Food</th>\n      <td>90650</td>\n      <td>1</td>\n    </tr>\n    <tr>\n      <th>Fish &amp; Chips Shop</th>\n      <td>90650</td>\n      <td>1</td>\n    </tr>\n    <tr>\n      <th>Donburi Restaurant</th>\n      <td>90650</td>\n      <td>1</td>\n    </tr>\n    <tr>\n      <th>Buffet</th>\n      <td>90650</td>\n      <td>1</td>\n    </tr>\n    <tr>\n      <th>Breakfast Spot</th>\n      <td>90650</td>\n      <td>1</td>\n    </tr>\n    <tr>\n      <th>Wings Joint</th>\n      <td>90650</td>\n      <td>1</td>\n    </tr>\n  </tbody>\n</table>\n</div>"
     },
     "execution_count": 171,
     "metadata": {},
     "output_type": "execute_result"
    }
   ],
   "source": [
    "df = ppds[['Venue Category', 'Zip Code']]\n",
    "df_grouped = df.groupby('Venue Category').agg(['mean', 'count'])\n",
    "df_sorted = df_grouped.sort_values(by=[('Zip Code','count')], ascending=False)\n",
    "#df_grouped.sort_values(by='count')\n",
    "df_sorted"
   ],
   "metadata": {
    "collapsed": false,
    "pycharm": {
     "name": "#%%\n"
    }
   }
  },
  {
   "cell_type": "code",
   "execution_count": 172,
   "outputs": [
    {
     "data": {
      "text/plain": "    Zip Code Community  Zip Code Latitude  Zip Code Longitude  \\\n0      90650   Norwalk          33.906914          -118.08339   \n1      90650   Norwalk          33.906914          -118.08339   \n2      90650   Norwalk          33.906914          -118.08339   \n3      90650   Norwalk          33.906914          -118.08339   \n4      90650   Norwalk          33.906914          -118.08339   \n5      90650   Norwalk          33.906914          -118.08339   \n6      90650   Norwalk          33.906914          -118.08339   \n7      90650   Norwalk          33.906914          -118.08339   \n8      90650   Norwalk          33.906914          -118.08339   \n9      90650   Norwalk          33.906914          -118.08339   \n10     90650   Norwalk          33.906914          -118.08339   \n11     90650   Norwalk          33.906914          -118.08339   \n12     90650   Norwalk          33.906914          -118.08339   \n13     90650   Norwalk          33.906914          -118.08339   \n14     90650   Norwalk          33.906914          -118.08339   \n15     90650   Norwalk          33.906914          -118.08339   \n16     90650   Norwalk          33.906914          -118.08339   \n17     90650   Norwalk          33.906914          -118.08339   \n19     90650   Norwalk          33.906914          -118.08339   \n20     90650   Norwalk          33.906914          -118.08339   \n\n                                            Venue        Venue Category  \\\n0                                 In-N-Out Burger  Fast Food Restaurant   \n1                     Douglas Charbroiled Burgers   American Restaurant   \n2                            Noemi's Mexican Food    Mexican Restaurant   \n3   Los Compadres Mexican Restaurant & Sports Bar    Mexican Restaurant   \n4                                Tacos Los Gueros    Mexican Restaurant   \n5                                      Señor Baja    Mexican Restaurant   \n6                                   Kung Pao Bowl    Chinese Restaurant   \n7                          The Habit Burger Grill          Burger Joint   \n8                                     Ho Ho China    Chinese Restaurant   \n9                                      Grill Town     Korean Restaurant   \n10                                  Rancho Grande    Mexican Restaurant   \n11                                    Chick-fil-A  Fast Food Restaurant   \n12                             Outback Steakhouse            Steakhouse   \n13                    Original Tommy's Hamburgers          Burger Joint   \n14                          Albert's Mexican Food    Mexican Restaurant   \n15                                        Wendy’s  Fast Food Restaurant   \n16                                 Ana's Bionicos    Mexican Restaurant   \n17                                 Rainbow Donuts            Donut Shop   \n19                            Candle Light Bakery                Bakery   \n20                                   Jimmy John's        Sandwich Place   \n\n              City PostalCode  \n0          Norwalk      90650  \n1          Norwalk      90650  \n2          Norwalk      90650  \n3          Norwalk      90650  \n4          Norwalk      90650  \n5          Norwalk      90650  \n6          Norwalk      90650  \n7          Norwalk      90650  \n8          Norwalk      90650  \n9          Norwalk      90650  \n10         Norwalk      90650  \n11         Norwalk      90650  \n12         Norwalk      90650  \n13         Norwalk      90650  \n14         Norwalk      90650  \n15         Norwalk      90650  \n16         Norwalk      90650  \n17         Norwalk      90650  \n19  Downey-Norwalk      90650  \n20         Norwalk      90650  ",
      "text/html": "<div>\n<style scoped>\n    .dataframe tbody tr th:only-of-type {\n        vertical-align: middle;\n    }\n\n    .dataframe tbody tr th {\n        vertical-align: top;\n    }\n\n    .dataframe thead th {\n        text-align: right;\n    }\n</style>\n<table border=\"1\" class=\"dataframe\">\n  <thead>\n    <tr style=\"text-align: right;\">\n      <th></th>\n      <th>Zip Code</th>\n      <th>Community</th>\n      <th>Zip Code Latitude</th>\n      <th>Zip Code Longitude</th>\n      <th>Venue</th>\n      <th>Venue Category</th>\n      <th>City</th>\n      <th>PostalCode</th>\n    </tr>\n  </thead>\n  <tbody>\n    <tr>\n      <th>0</th>\n      <td>90650</td>\n      <td>Norwalk</td>\n      <td>33.906914</td>\n      <td>-118.08339</td>\n      <td>In-N-Out Burger</td>\n      <td>Fast Food Restaurant</td>\n      <td>Norwalk</td>\n      <td>90650</td>\n    </tr>\n    <tr>\n      <th>1</th>\n      <td>90650</td>\n      <td>Norwalk</td>\n      <td>33.906914</td>\n      <td>-118.08339</td>\n      <td>Douglas Charbroiled Burgers</td>\n      <td>American Restaurant</td>\n      <td>Norwalk</td>\n      <td>90650</td>\n    </tr>\n    <tr>\n      <th>2</th>\n      <td>90650</td>\n      <td>Norwalk</td>\n      <td>33.906914</td>\n      <td>-118.08339</td>\n      <td>Noemi's Mexican Food</td>\n      <td>Mexican Restaurant</td>\n      <td>Norwalk</td>\n      <td>90650</td>\n    </tr>\n    <tr>\n      <th>3</th>\n      <td>90650</td>\n      <td>Norwalk</td>\n      <td>33.906914</td>\n      <td>-118.08339</td>\n      <td>Los Compadres Mexican Restaurant &amp; Sports Bar</td>\n      <td>Mexican Restaurant</td>\n      <td>Norwalk</td>\n      <td>90650</td>\n    </tr>\n    <tr>\n      <th>4</th>\n      <td>90650</td>\n      <td>Norwalk</td>\n      <td>33.906914</td>\n      <td>-118.08339</td>\n      <td>Tacos Los Gueros</td>\n      <td>Mexican Restaurant</td>\n      <td>Norwalk</td>\n      <td>90650</td>\n    </tr>\n    <tr>\n      <th>5</th>\n      <td>90650</td>\n      <td>Norwalk</td>\n      <td>33.906914</td>\n      <td>-118.08339</td>\n      <td>Señor Baja</td>\n      <td>Mexican Restaurant</td>\n      <td>Norwalk</td>\n      <td>90650</td>\n    </tr>\n    <tr>\n      <th>6</th>\n      <td>90650</td>\n      <td>Norwalk</td>\n      <td>33.906914</td>\n      <td>-118.08339</td>\n      <td>Kung Pao Bowl</td>\n      <td>Chinese Restaurant</td>\n      <td>Norwalk</td>\n      <td>90650</td>\n    </tr>\n    <tr>\n      <th>7</th>\n      <td>90650</td>\n      <td>Norwalk</td>\n      <td>33.906914</td>\n      <td>-118.08339</td>\n      <td>The Habit Burger Grill</td>\n      <td>Burger Joint</td>\n      <td>Norwalk</td>\n      <td>90650</td>\n    </tr>\n    <tr>\n      <th>8</th>\n      <td>90650</td>\n      <td>Norwalk</td>\n      <td>33.906914</td>\n      <td>-118.08339</td>\n      <td>Ho Ho China</td>\n      <td>Chinese Restaurant</td>\n      <td>Norwalk</td>\n      <td>90650</td>\n    </tr>\n    <tr>\n      <th>9</th>\n      <td>90650</td>\n      <td>Norwalk</td>\n      <td>33.906914</td>\n      <td>-118.08339</td>\n      <td>Grill Town</td>\n      <td>Korean Restaurant</td>\n      <td>Norwalk</td>\n      <td>90650</td>\n    </tr>\n    <tr>\n      <th>10</th>\n      <td>90650</td>\n      <td>Norwalk</td>\n      <td>33.906914</td>\n      <td>-118.08339</td>\n      <td>Rancho Grande</td>\n      <td>Mexican Restaurant</td>\n      <td>Norwalk</td>\n      <td>90650</td>\n    </tr>\n    <tr>\n      <th>11</th>\n      <td>90650</td>\n      <td>Norwalk</td>\n      <td>33.906914</td>\n      <td>-118.08339</td>\n      <td>Chick-fil-A</td>\n      <td>Fast Food Restaurant</td>\n      <td>Norwalk</td>\n      <td>90650</td>\n    </tr>\n    <tr>\n      <th>12</th>\n      <td>90650</td>\n      <td>Norwalk</td>\n      <td>33.906914</td>\n      <td>-118.08339</td>\n      <td>Outback Steakhouse</td>\n      <td>Steakhouse</td>\n      <td>Norwalk</td>\n      <td>90650</td>\n    </tr>\n    <tr>\n      <th>13</th>\n      <td>90650</td>\n      <td>Norwalk</td>\n      <td>33.906914</td>\n      <td>-118.08339</td>\n      <td>Original Tommy's Hamburgers</td>\n      <td>Burger Joint</td>\n      <td>Norwalk</td>\n      <td>90650</td>\n    </tr>\n    <tr>\n      <th>14</th>\n      <td>90650</td>\n      <td>Norwalk</td>\n      <td>33.906914</td>\n      <td>-118.08339</td>\n      <td>Albert's Mexican Food</td>\n      <td>Mexican Restaurant</td>\n      <td>Norwalk</td>\n      <td>90650</td>\n    </tr>\n    <tr>\n      <th>15</th>\n      <td>90650</td>\n      <td>Norwalk</td>\n      <td>33.906914</td>\n      <td>-118.08339</td>\n      <td>Wendy’s</td>\n      <td>Fast Food Restaurant</td>\n      <td>Norwalk</td>\n      <td>90650</td>\n    </tr>\n    <tr>\n      <th>16</th>\n      <td>90650</td>\n      <td>Norwalk</td>\n      <td>33.906914</td>\n      <td>-118.08339</td>\n      <td>Ana's Bionicos</td>\n      <td>Mexican Restaurant</td>\n      <td>Norwalk</td>\n      <td>90650</td>\n    </tr>\n    <tr>\n      <th>17</th>\n      <td>90650</td>\n      <td>Norwalk</td>\n      <td>33.906914</td>\n      <td>-118.08339</td>\n      <td>Rainbow Donuts</td>\n      <td>Donut Shop</td>\n      <td>Norwalk</td>\n      <td>90650</td>\n    </tr>\n    <tr>\n      <th>19</th>\n      <td>90650</td>\n      <td>Norwalk</td>\n      <td>33.906914</td>\n      <td>-118.08339</td>\n      <td>Candle Light Bakery</td>\n      <td>Bakery</td>\n      <td>Downey-Norwalk</td>\n      <td>90650</td>\n    </tr>\n    <tr>\n      <th>20</th>\n      <td>90650</td>\n      <td>Norwalk</td>\n      <td>33.906914</td>\n      <td>-118.08339</td>\n      <td>Jimmy John's</td>\n      <td>Sandwich Place</td>\n      <td>Norwalk</td>\n      <td>90650</td>\n    </tr>\n  </tbody>\n</table>\n</div>"
     },
     "execution_count": 172,
     "metadata": {},
     "output_type": "execute_result"
    }
   ],
   "source": [
    "ppds.head(20)"
   ],
   "metadata": {
    "collapsed": false,
    "pycharm": {
     "name": "#%%\n"
    }
   }
  },
  {
   "cell_type": "code",
   "execution_count": 173,
   "outputs": [
    {
     "data": {
      "text/plain": "          Venue Category  Count\n9   Fast Food Restaurant     14\n16    Mexican Restaurant     12\n18        Sandwich Place      8\n17           Pizza Place      7\n6     Chinese Restaurant      6\n0    American Restaurant      5\n8             Donut Shop      5\n1       Asian Restaurant      4\n13            Food Truck      4\n2                 Bakery      2\n5           Burger Joint      2\n22       Thai Restaurant      1\n21            Taco Place      1\n20      Sushi Restaurant      1\n19            Steakhouse      1\n12            Food Court      1\n15     Korean Restaurant      1\n14   Fried Chicken Joint      1\n11                  Food      1\n10     Fish & Chips Shop      1\n7     Donburi Restaurant      1\n4                 Buffet      1\n3         Breakfast Spot      1\n23           Wings Joint      1",
      "text/html": "<div>\n<style scoped>\n    .dataframe tbody tr th:only-of-type {\n        vertical-align: middle;\n    }\n\n    .dataframe tbody tr th {\n        vertical-align: top;\n    }\n\n    .dataframe thead th {\n        text-align: right;\n    }\n</style>\n<table border=\"1\" class=\"dataframe\">\n  <thead>\n    <tr style=\"text-align: right;\">\n      <th></th>\n      <th>Venue Category</th>\n      <th>Count</th>\n    </tr>\n  </thead>\n  <tbody>\n    <tr>\n      <th>9</th>\n      <td>Fast Food Restaurant</td>\n      <td>14</td>\n    </tr>\n    <tr>\n      <th>16</th>\n      <td>Mexican Restaurant</td>\n      <td>12</td>\n    </tr>\n    <tr>\n      <th>18</th>\n      <td>Sandwich Place</td>\n      <td>8</td>\n    </tr>\n    <tr>\n      <th>17</th>\n      <td>Pizza Place</td>\n      <td>7</td>\n    </tr>\n    <tr>\n      <th>6</th>\n      <td>Chinese Restaurant</td>\n      <td>6</td>\n    </tr>\n    <tr>\n      <th>0</th>\n      <td>American Restaurant</td>\n      <td>5</td>\n    </tr>\n    <tr>\n      <th>8</th>\n      <td>Donut Shop</td>\n      <td>5</td>\n    </tr>\n    <tr>\n      <th>1</th>\n      <td>Asian Restaurant</td>\n      <td>4</td>\n    </tr>\n    <tr>\n      <th>13</th>\n      <td>Food Truck</td>\n      <td>4</td>\n    </tr>\n    <tr>\n      <th>2</th>\n      <td>Bakery</td>\n      <td>2</td>\n    </tr>\n    <tr>\n      <th>5</th>\n      <td>Burger Joint</td>\n      <td>2</td>\n    </tr>\n    <tr>\n      <th>22</th>\n      <td>Thai Restaurant</td>\n      <td>1</td>\n    </tr>\n    <tr>\n      <th>21</th>\n      <td>Taco Place</td>\n      <td>1</td>\n    </tr>\n    <tr>\n      <th>20</th>\n      <td>Sushi Restaurant</td>\n      <td>1</td>\n    </tr>\n    <tr>\n      <th>19</th>\n      <td>Steakhouse</td>\n      <td>1</td>\n    </tr>\n    <tr>\n      <th>12</th>\n      <td>Food Court</td>\n      <td>1</td>\n    </tr>\n    <tr>\n      <th>15</th>\n      <td>Korean Restaurant</td>\n      <td>1</td>\n    </tr>\n    <tr>\n      <th>14</th>\n      <td>Fried Chicken Joint</td>\n      <td>1</td>\n    </tr>\n    <tr>\n      <th>11</th>\n      <td>Food</td>\n      <td>1</td>\n    </tr>\n    <tr>\n      <th>10</th>\n      <td>Fish &amp; Chips Shop</td>\n      <td>1</td>\n    </tr>\n    <tr>\n      <th>7</th>\n      <td>Donburi Restaurant</td>\n      <td>1</td>\n    </tr>\n    <tr>\n      <th>4</th>\n      <td>Buffet</td>\n      <td>1</td>\n    </tr>\n    <tr>\n      <th>3</th>\n      <td>Breakfast Spot</td>\n      <td>1</td>\n    </tr>\n    <tr>\n      <th>23</th>\n      <td>Wings Joint</td>\n      <td>1</td>\n    </tr>\n  </tbody>\n</table>\n</div>"
     },
     "execution_count": 173,
     "metadata": {},
     "output_type": "execute_result"
    }
   ],
   "source": [
    "df = ppds[['Venue Category']]\n",
    "df_count = df.groupby('Venue Category').size().to_frame('Count').reset_index()\n",
    "df_sorted = df_count.sort_values(by=[('Count')], ascending=False)\n",
    "df_sorted"
   ],
   "metadata": {
    "collapsed": false,
    "pycharm": {
     "name": "#%%\n"
    }
   }
  },
  {
   "cell_type": "code",
   "execution_count": 174,
   "outputs": [
    {
     "data": {
      "application/vnd.plotly.v1+json": {
       "config": {
        "plotlyServerURL": "https://plot.ly"
       },
       "data": [
        {
         "alignmentgroup": "True",
         "hovertemplate": "Venue Category=%{x}<br>Count=%{y}<extra></extra>",
         "legendgroup": "",
         "marker": {
          "color": "#636efa"
         },
         "name": "",
         "offsetgroup": "",
         "orientation": "v",
         "showlegend": false,
         "textposition": "auto",
         "type": "bar",
         "x": [
          "Fast Food Restaurant",
          "Mexican Restaurant",
          "Sandwich Place",
          "Pizza Place",
          "Chinese Restaurant",
          "American Restaurant",
          "Donut Shop",
          "Asian Restaurant",
          "Food Truck",
          "Bakery",
          "Burger Joint",
          "Thai Restaurant",
          "Taco Place",
          "Sushi Restaurant",
          "Steakhouse",
          "Food Court",
          "Korean Restaurant",
          "Fried Chicken Joint",
          "Food",
          "Fish & Chips Shop",
          "Donburi Restaurant",
          "Buffet",
          "Breakfast Spot",
          "Wings Joint"
         ],
         "xaxis": "x",
         "y": [
          14,
          12,
          8,
          7,
          6,
          5,
          5,
          4,
          4,
          2,
          2,
          1,
          1,
          1,
          1,
          1,
          1,
          1,
          1,
          1,
          1,
          1,
          1,
          1
         ],
         "yaxis": "y"
        }
       ],
       "layout": {
        "barmode": "relative",
        "legend": {
         "tracegroupgap": 0
        },
        "template": {
         "data": {
          "bar": [
           {
            "error_x": {
             "color": "#2a3f5f"
            },
            "error_y": {
             "color": "#2a3f5f"
            },
            "marker": {
             "line": {
              "color": "#E5ECF6",
              "width": 0.5
             }
            },
            "type": "bar"
           }
          ],
          "barpolar": [
           {
            "marker": {
             "line": {
              "color": "#E5ECF6",
              "width": 0.5
             }
            },
            "type": "barpolar"
           }
          ],
          "carpet": [
           {
            "aaxis": {
             "endlinecolor": "#2a3f5f",
             "gridcolor": "white",
             "linecolor": "white",
             "minorgridcolor": "white",
             "startlinecolor": "#2a3f5f"
            },
            "baxis": {
             "endlinecolor": "#2a3f5f",
             "gridcolor": "white",
             "linecolor": "white",
             "minorgridcolor": "white",
             "startlinecolor": "#2a3f5f"
            },
            "type": "carpet"
           }
          ],
          "choropleth": [
           {
            "colorbar": {
             "outlinewidth": 0,
             "ticks": ""
            },
            "type": "choropleth"
           }
          ],
          "contour": [
           {
            "colorbar": {
             "outlinewidth": 0,
             "ticks": ""
            },
            "colorscale": [
             [
              0.0,
              "#0d0887"
             ],
             [
              0.1111111111111111,
              "#46039f"
             ],
             [
              0.2222222222222222,
              "#7201a8"
             ],
             [
              0.3333333333333333,
              "#9c179e"
             ],
             [
              0.4444444444444444,
              "#bd3786"
             ],
             [
              0.5555555555555556,
              "#d8576b"
             ],
             [
              0.6666666666666666,
              "#ed7953"
             ],
             [
              0.7777777777777778,
              "#fb9f3a"
             ],
             [
              0.8888888888888888,
              "#fdca26"
             ],
             [
              1.0,
              "#f0f921"
             ]
            ],
            "type": "contour"
           }
          ],
          "contourcarpet": [
           {
            "colorbar": {
             "outlinewidth": 0,
             "ticks": ""
            },
            "type": "contourcarpet"
           }
          ],
          "heatmap": [
           {
            "colorbar": {
             "outlinewidth": 0,
             "ticks": ""
            },
            "colorscale": [
             [
              0.0,
              "#0d0887"
             ],
             [
              0.1111111111111111,
              "#46039f"
             ],
             [
              0.2222222222222222,
              "#7201a8"
             ],
             [
              0.3333333333333333,
              "#9c179e"
             ],
             [
              0.4444444444444444,
              "#bd3786"
             ],
             [
              0.5555555555555556,
              "#d8576b"
             ],
             [
              0.6666666666666666,
              "#ed7953"
             ],
             [
              0.7777777777777778,
              "#fb9f3a"
             ],
             [
              0.8888888888888888,
              "#fdca26"
             ],
             [
              1.0,
              "#f0f921"
             ]
            ],
            "type": "heatmap"
           }
          ],
          "heatmapgl": [
           {
            "colorbar": {
             "outlinewidth": 0,
             "ticks": ""
            },
            "colorscale": [
             [
              0.0,
              "#0d0887"
             ],
             [
              0.1111111111111111,
              "#46039f"
             ],
             [
              0.2222222222222222,
              "#7201a8"
             ],
             [
              0.3333333333333333,
              "#9c179e"
             ],
             [
              0.4444444444444444,
              "#bd3786"
             ],
             [
              0.5555555555555556,
              "#d8576b"
             ],
             [
              0.6666666666666666,
              "#ed7953"
             ],
             [
              0.7777777777777778,
              "#fb9f3a"
             ],
             [
              0.8888888888888888,
              "#fdca26"
             ],
             [
              1.0,
              "#f0f921"
             ]
            ],
            "type": "heatmapgl"
           }
          ],
          "histogram": [
           {
            "marker": {
             "colorbar": {
              "outlinewidth": 0,
              "ticks": ""
             }
            },
            "type": "histogram"
           }
          ],
          "histogram2d": [
           {
            "colorbar": {
             "outlinewidth": 0,
             "ticks": ""
            },
            "colorscale": [
             [
              0.0,
              "#0d0887"
             ],
             [
              0.1111111111111111,
              "#46039f"
             ],
             [
              0.2222222222222222,
              "#7201a8"
             ],
             [
              0.3333333333333333,
              "#9c179e"
             ],
             [
              0.4444444444444444,
              "#bd3786"
             ],
             [
              0.5555555555555556,
              "#d8576b"
             ],
             [
              0.6666666666666666,
              "#ed7953"
             ],
             [
              0.7777777777777778,
              "#fb9f3a"
             ],
             [
              0.8888888888888888,
              "#fdca26"
             ],
             [
              1.0,
              "#f0f921"
             ]
            ],
            "type": "histogram2d"
           }
          ],
          "histogram2dcontour": [
           {
            "colorbar": {
             "outlinewidth": 0,
             "ticks": ""
            },
            "colorscale": [
             [
              0.0,
              "#0d0887"
             ],
             [
              0.1111111111111111,
              "#46039f"
             ],
             [
              0.2222222222222222,
              "#7201a8"
             ],
             [
              0.3333333333333333,
              "#9c179e"
             ],
             [
              0.4444444444444444,
              "#bd3786"
             ],
             [
              0.5555555555555556,
              "#d8576b"
             ],
             [
              0.6666666666666666,
              "#ed7953"
             ],
             [
              0.7777777777777778,
              "#fb9f3a"
             ],
             [
              0.8888888888888888,
              "#fdca26"
             ],
             [
              1.0,
              "#f0f921"
             ]
            ],
            "type": "histogram2dcontour"
           }
          ],
          "mesh3d": [
           {
            "colorbar": {
             "outlinewidth": 0,
             "ticks": ""
            },
            "type": "mesh3d"
           }
          ],
          "parcoords": [
           {
            "line": {
             "colorbar": {
              "outlinewidth": 0,
              "ticks": ""
             }
            },
            "type": "parcoords"
           }
          ],
          "pie": [
           {
            "automargin": true,
            "type": "pie"
           }
          ],
          "scatter": [
           {
            "marker": {
             "colorbar": {
              "outlinewidth": 0,
              "ticks": ""
             }
            },
            "type": "scatter"
           }
          ],
          "scatter3d": [
           {
            "line": {
             "colorbar": {
              "outlinewidth": 0,
              "ticks": ""
             }
            },
            "marker": {
             "colorbar": {
              "outlinewidth": 0,
              "ticks": ""
             }
            },
            "type": "scatter3d"
           }
          ],
          "scattercarpet": [
           {
            "marker": {
             "colorbar": {
              "outlinewidth": 0,
              "ticks": ""
             }
            },
            "type": "scattercarpet"
           }
          ],
          "scattergeo": [
           {
            "marker": {
             "colorbar": {
              "outlinewidth": 0,
              "ticks": ""
             }
            },
            "type": "scattergeo"
           }
          ],
          "scattergl": [
           {
            "marker": {
             "colorbar": {
              "outlinewidth": 0,
              "ticks": ""
             }
            },
            "type": "scattergl"
           }
          ],
          "scattermapbox": [
           {
            "marker": {
             "colorbar": {
              "outlinewidth": 0,
              "ticks": ""
             }
            },
            "type": "scattermapbox"
           }
          ],
          "scatterpolar": [
           {
            "marker": {
             "colorbar": {
              "outlinewidth": 0,
              "ticks": ""
             }
            },
            "type": "scatterpolar"
           }
          ],
          "scatterpolargl": [
           {
            "marker": {
             "colorbar": {
              "outlinewidth": 0,
              "ticks": ""
             }
            },
            "type": "scatterpolargl"
           }
          ],
          "scatterternary": [
           {
            "marker": {
             "colorbar": {
              "outlinewidth": 0,
              "ticks": ""
             }
            },
            "type": "scatterternary"
           }
          ],
          "surface": [
           {
            "colorbar": {
             "outlinewidth": 0,
             "ticks": ""
            },
            "colorscale": [
             [
              0.0,
              "#0d0887"
             ],
             [
              0.1111111111111111,
              "#46039f"
             ],
             [
              0.2222222222222222,
              "#7201a8"
             ],
             [
              0.3333333333333333,
              "#9c179e"
             ],
             [
              0.4444444444444444,
              "#bd3786"
             ],
             [
              0.5555555555555556,
              "#d8576b"
             ],
             [
              0.6666666666666666,
              "#ed7953"
             ],
             [
              0.7777777777777778,
              "#fb9f3a"
             ],
             [
              0.8888888888888888,
              "#fdca26"
             ],
             [
              1.0,
              "#f0f921"
             ]
            ],
            "type": "surface"
           }
          ],
          "table": [
           {
            "cells": {
             "fill": {
              "color": "#EBF0F8"
             },
             "line": {
              "color": "white"
             }
            },
            "header": {
             "fill": {
              "color": "#C8D4E3"
             },
             "line": {
              "color": "white"
             }
            },
            "type": "table"
           }
          ]
         },
         "layout": {
          "annotationdefaults": {
           "arrowcolor": "#2a3f5f",
           "arrowhead": 0,
           "arrowwidth": 1
          },
          "autotypenumbers": "strict",
          "coloraxis": {
           "colorbar": {
            "outlinewidth": 0,
            "ticks": ""
           }
          },
          "colorscale": {
           "diverging": [
            [
             0,
             "#8e0152"
            ],
            [
             0.1,
             "#c51b7d"
            ],
            [
             0.2,
             "#de77ae"
            ],
            [
             0.3,
             "#f1b6da"
            ],
            [
             0.4,
             "#fde0ef"
            ],
            [
             0.5,
             "#f7f7f7"
            ],
            [
             0.6,
             "#e6f5d0"
            ],
            [
             0.7,
             "#b8e186"
            ],
            [
             0.8,
             "#7fbc41"
            ],
            [
             0.9,
             "#4d9221"
            ],
            [
             1,
             "#276419"
            ]
           ],
           "sequential": [
            [
             0.0,
             "#0d0887"
            ],
            [
             0.1111111111111111,
             "#46039f"
            ],
            [
             0.2222222222222222,
             "#7201a8"
            ],
            [
             0.3333333333333333,
             "#9c179e"
            ],
            [
             0.4444444444444444,
             "#bd3786"
            ],
            [
             0.5555555555555556,
             "#d8576b"
            ],
            [
             0.6666666666666666,
             "#ed7953"
            ],
            [
             0.7777777777777778,
             "#fb9f3a"
            ],
            [
             0.8888888888888888,
             "#fdca26"
            ],
            [
             1.0,
             "#f0f921"
            ]
           ],
           "sequentialminus": [
            [
             0.0,
             "#0d0887"
            ],
            [
             0.1111111111111111,
             "#46039f"
            ],
            [
             0.2222222222222222,
             "#7201a8"
            ],
            [
             0.3333333333333333,
             "#9c179e"
            ],
            [
             0.4444444444444444,
             "#bd3786"
            ],
            [
             0.5555555555555556,
             "#d8576b"
            ],
            [
             0.6666666666666666,
             "#ed7953"
            ],
            [
             0.7777777777777778,
             "#fb9f3a"
            ],
            [
             0.8888888888888888,
             "#fdca26"
            ],
            [
             1.0,
             "#f0f921"
            ]
           ]
          },
          "colorway": [
           "#636efa",
           "#EF553B",
           "#00cc96",
           "#ab63fa",
           "#FFA15A",
           "#19d3f3",
           "#FF6692",
           "#B6E880",
           "#FF97FF",
           "#FECB52"
          ],
          "font": {
           "color": "#2a3f5f"
          },
          "geo": {
           "bgcolor": "white",
           "lakecolor": "white",
           "landcolor": "#E5ECF6",
           "showlakes": true,
           "showland": true,
           "subunitcolor": "white"
          },
          "hoverlabel": {
           "align": "left"
          },
          "hovermode": "closest",
          "mapbox": {
           "style": "light"
          },
          "paper_bgcolor": "white",
          "plot_bgcolor": "#E5ECF6",
          "polar": {
           "angularaxis": {
            "gridcolor": "white",
            "linecolor": "white",
            "ticks": ""
           },
           "bgcolor": "#E5ECF6",
           "radialaxis": {
            "gridcolor": "white",
            "linecolor": "white",
            "ticks": ""
           }
          },
          "scene": {
           "xaxis": {
            "backgroundcolor": "#E5ECF6",
            "gridcolor": "white",
            "gridwidth": 2,
            "linecolor": "white",
            "showbackground": true,
            "ticks": "",
            "zerolinecolor": "white"
           },
           "yaxis": {
            "backgroundcolor": "#E5ECF6",
            "gridcolor": "white",
            "gridwidth": 2,
            "linecolor": "white",
            "showbackground": true,
            "ticks": "",
            "zerolinecolor": "white"
           },
           "zaxis": {
            "backgroundcolor": "#E5ECF6",
            "gridcolor": "white",
            "gridwidth": 2,
            "linecolor": "white",
            "showbackground": true,
            "ticks": "",
            "zerolinecolor": "white"
           }
          },
          "shapedefaults": {
           "line": {
            "color": "#2a3f5f"
           }
          },
          "ternary": {
           "aaxis": {
            "gridcolor": "white",
            "linecolor": "white",
            "ticks": ""
           },
           "baxis": {
            "gridcolor": "white",
            "linecolor": "white",
            "ticks": ""
           },
           "bgcolor": "#E5ECF6",
           "caxis": {
            "gridcolor": "white",
            "linecolor": "white",
            "ticks": ""
           }
          },
          "title": {
           "x": 0.05
          },
          "xaxis": {
           "automargin": true,
           "gridcolor": "white",
           "linecolor": "white",
           "ticks": "",
           "title": {
            "standoff": 15
           },
           "zerolinecolor": "white",
           "zerolinewidth": 2
          },
          "yaxis": {
           "automargin": true,
           "gridcolor": "white",
           "linecolor": "white",
           "ticks": "",
           "title": {
            "standoff": 15
           },
           "zerolinecolor": "white",
           "zerolinewidth": 2
          }
         }
        },
        "title": {
         "text": "Distribution of Food Venues in Norwalk"
        },
        "xaxis": {
         "anchor": "y",
         "domain": [
          0.0,
          1.0
         ],
         "title": {
          "text": "Venue Category"
         }
        },
        "yaxis": {
         "anchor": "x",
         "domain": [
          0.0,
          1.0
         ],
         "title": {
          "text": "Count"
         }
        }
       }
      },
      "text/html": "<div>                            <div id=\"0c3abf7c-e21b-4fc7-ae47-384bf00c5672\" class=\"plotly-graph-div\" style=\"height:525px; width:100%;\"></div>            <script type=\"text/javascript\">                require([\"plotly\"], function(Plotly) {                    window.PLOTLYENV=window.PLOTLYENV || {};                                    if (document.getElementById(\"0c3abf7c-e21b-4fc7-ae47-384bf00c5672\")) {                    Plotly.newPlot(                        \"0c3abf7c-e21b-4fc7-ae47-384bf00c5672\",                        [{\"alignmentgroup\": \"True\", \"hovertemplate\": \"Venue Category=%{x}<br>Count=%{y}<extra></extra>\", \"legendgroup\": \"\", \"marker\": {\"color\": \"#636efa\"}, \"name\": \"\", \"offsetgroup\": \"\", \"orientation\": \"v\", \"showlegend\": false, \"textposition\": \"auto\", \"type\": \"bar\", \"x\": [\"Fast Food Restaurant\", \"Mexican Restaurant\", \"Sandwich Place\", \"Pizza Place\", \"Chinese Restaurant\", \"American Restaurant\", \"Donut Shop\", \"Asian Restaurant\", \"Food Truck\", \"Bakery\", \"Burger Joint\", \"Thai Restaurant\", \"Taco Place\", \"Sushi Restaurant\", \"Steakhouse\", \"Food Court\", \"Korean Restaurant\", \"Fried Chicken Joint\", \"Food\", \"Fish & Chips Shop\", \"Donburi Restaurant\", \"Buffet\", \"Breakfast Spot\", \"Wings Joint\"], \"xaxis\": \"x\", \"y\": [14, 12, 8, 7, 6, 5, 5, 4, 4, 2, 2, 1, 1, 1, 1, 1, 1, 1, 1, 1, 1, 1, 1, 1], \"yaxis\": \"y\"}],                        {\"barmode\": \"relative\", \"legend\": {\"tracegroupgap\": 0}, \"template\": {\"data\": {\"bar\": [{\"error_x\": {\"color\": \"#2a3f5f\"}, \"error_y\": {\"color\": \"#2a3f5f\"}, \"marker\": {\"line\": {\"color\": \"#E5ECF6\", \"width\": 0.5}}, \"type\": \"bar\"}], \"barpolar\": [{\"marker\": {\"line\": {\"color\": \"#E5ECF6\", \"width\": 0.5}}, \"type\": \"barpolar\"}], \"carpet\": [{\"aaxis\": {\"endlinecolor\": \"#2a3f5f\", \"gridcolor\": \"white\", \"linecolor\": \"white\", \"minorgridcolor\": \"white\", \"startlinecolor\": \"#2a3f5f\"}, \"baxis\": {\"endlinecolor\": \"#2a3f5f\", \"gridcolor\": \"white\", \"linecolor\": \"white\", \"minorgridcolor\": \"white\", \"startlinecolor\": \"#2a3f5f\"}, \"type\": \"carpet\"}], \"choropleth\": [{\"colorbar\": {\"outlinewidth\": 0, \"ticks\": \"\"}, \"type\": \"choropleth\"}], \"contour\": [{\"colorbar\": {\"outlinewidth\": 0, \"ticks\": \"\"}, \"colorscale\": [[0.0, \"#0d0887\"], [0.1111111111111111, \"#46039f\"], [0.2222222222222222, \"#7201a8\"], [0.3333333333333333, \"#9c179e\"], [0.4444444444444444, \"#bd3786\"], [0.5555555555555556, \"#d8576b\"], [0.6666666666666666, \"#ed7953\"], [0.7777777777777778, \"#fb9f3a\"], [0.8888888888888888, \"#fdca26\"], [1.0, \"#f0f921\"]], \"type\": \"contour\"}], \"contourcarpet\": [{\"colorbar\": {\"outlinewidth\": 0, \"ticks\": \"\"}, \"type\": \"contourcarpet\"}], \"heatmap\": [{\"colorbar\": {\"outlinewidth\": 0, \"ticks\": \"\"}, \"colorscale\": [[0.0, \"#0d0887\"], [0.1111111111111111, \"#46039f\"], [0.2222222222222222, \"#7201a8\"], [0.3333333333333333, \"#9c179e\"], [0.4444444444444444, \"#bd3786\"], [0.5555555555555556, \"#d8576b\"], [0.6666666666666666, \"#ed7953\"], [0.7777777777777778, \"#fb9f3a\"], [0.8888888888888888, \"#fdca26\"], [1.0, \"#f0f921\"]], \"type\": \"heatmap\"}], \"heatmapgl\": [{\"colorbar\": {\"outlinewidth\": 0, \"ticks\": \"\"}, \"colorscale\": [[0.0, \"#0d0887\"], [0.1111111111111111, \"#46039f\"], [0.2222222222222222, \"#7201a8\"], [0.3333333333333333, \"#9c179e\"], [0.4444444444444444, \"#bd3786\"], [0.5555555555555556, \"#d8576b\"], [0.6666666666666666, \"#ed7953\"], [0.7777777777777778, \"#fb9f3a\"], [0.8888888888888888, \"#fdca26\"], [1.0, \"#f0f921\"]], \"type\": \"heatmapgl\"}], \"histogram\": [{\"marker\": {\"colorbar\": {\"outlinewidth\": 0, \"ticks\": \"\"}}, \"type\": \"histogram\"}], \"histogram2d\": [{\"colorbar\": {\"outlinewidth\": 0, \"ticks\": \"\"}, \"colorscale\": [[0.0, \"#0d0887\"], [0.1111111111111111, \"#46039f\"], [0.2222222222222222, \"#7201a8\"], [0.3333333333333333, \"#9c179e\"], [0.4444444444444444, \"#bd3786\"], [0.5555555555555556, \"#d8576b\"], [0.6666666666666666, \"#ed7953\"], [0.7777777777777778, \"#fb9f3a\"], [0.8888888888888888, \"#fdca26\"], [1.0, \"#f0f921\"]], \"type\": \"histogram2d\"}], \"histogram2dcontour\": [{\"colorbar\": {\"outlinewidth\": 0, \"ticks\": \"\"}, \"colorscale\": [[0.0, \"#0d0887\"], [0.1111111111111111, \"#46039f\"], [0.2222222222222222, \"#7201a8\"], [0.3333333333333333, \"#9c179e\"], [0.4444444444444444, \"#bd3786\"], [0.5555555555555556, \"#d8576b\"], [0.6666666666666666, \"#ed7953\"], [0.7777777777777778, \"#fb9f3a\"], [0.8888888888888888, \"#fdca26\"], [1.0, \"#f0f921\"]], \"type\": \"histogram2dcontour\"}], \"mesh3d\": [{\"colorbar\": {\"outlinewidth\": 0, \"ticks\": \"\"}, \"type\": \"mesh3d\"}], \"parcoords\": [{\"line\": {\"colorbar\": {\"outlinewidth\": 0, \"ticks\": \"\"}}, \"type\": \"parcoords\"}], \"pie\": [{\"automargin\": true, \"type\": \"pie\"}], \"scatter\": [{\"marker\": {\"colorbar\": {\"outlinewidth\": 0, \"ticks\": \"\"}}, \"type\": \"scatter\"}], \"scatter3d\": [{\"line\": {\"colorbar\": {\"outlinewidth\": 0, \"ticks\": \"\"}}, \"marker\": {\"colorbar\": {\"outlinewidth\": 0, \"ticks\": \"\"}}, \"type\": \"scatter3d\"}], \"scattercarpet\": [{\"marker\": {\"colorbar\": {\"outlinewidth\": 0, \"ticks\": \"\"}}, \"type\": \"scattercarpet\"}], \"scattergeo\": [{\"marker\": {\"colorbar\": {\"outlinewidth\": 0, \"ticks\": \"\"}}, \"type\": \"scattergeo\"}], \"scattergl\": [{\"marker\": {\"colorbar\": {\"outlinewidth\": 0, \"ticks\": \"\"}}, \"type\": \"scattergl\"}], \"scattermapbox\": [{\"marker\": {\"colorbar\": {\"outlinewidth\": 0, \"ticks\": \"\"}}, \"type\": \"scattermapbox\"}], \"scatterpolar\": [{\"marker\": {\"colorbar\": {\"outlinewidth\": 0, \"ticks\": \"\"}}, \"type\": \"scatterpolar\"}], \"scatterpolargl\": [{\"marker\": {\"colorbar\": {\"outlinewidth\": 0, \"ticks\": \"\"}}, \"type\": \"scatterpolargl\"}], \"scatterternary\": [{\"marker\": {\"colorbar\": {\"outlinewidth\": 0, \"ticks\": \"\"}}, \"type\": \"scatterternary\"}], \"surface\": [{\"colorbar\": {\"outlinewidth\": 0, \"ticks\": \"\"}, \"colorscale\": [[0.0, \"#0d0887\"], [0.1111111111111111, \"#46039f\"], [0.2222222222222222, \"#7201a8\"], [0.3333333333333333, \"#9c179e\"], [0.4444444444444444, \"#bd3786\"], [0.5555555555555556, \"#d8576b\"], [0.6666666666666666, \"#ed7953\"], [0.7777777777777778, \"#fb9f3a\"], [0.8888888888888888, \"#fdca26\"], [1.0, \"#f0f921\"]], \"type\": \"surface\"}], \"table\": [{\"cells\": {\"fill\": {\"color\": \"#EBF0F8\"}, \"line\": {\"color\": \"white\"}}, \"header\": {\"fill\": {\"color\": \"#C8D4E3\"}, \"line\": {\"color\": \"white\"}}, \"type\": \"table\"}]}, \"layout\": {\"annotationdefaults\": {\"arrowcolor\": \"#2a3f5f\", \"arrowhead\": 0, \"arrowwidth\": 1}, \"autotypenumbers\": \"strict\", \"coloraxis\": {\"colorbar\": {\"outlinewidth\": 0, \"ticks\": \"\"}}, \"colorscale\": {\"diverging\": [[0, \"#8e0152\"], [0.1, \"#c51b7d\"], [0.2, \"#de77ae\"], [0.3, \"#f1b6da\"], [0.4, \"#fde0ef\"], [0.5, \"#f7f7f7\"], [0.6, \"#e6f5d0\"], [0.7, \"#b8e186\"], [0.8, \"#7fbc41\"], [0.9, \"#4d9221\"], [1, \"#276419\"]], \"sequential\": [[0.0, \"#0d0887\"], [0.1111111111111111, \"#46039f\"], [0.2222222222222222, \"#7201a8\"], [0.3333333333333333, \"#9c179e\"], [0.4444444444444444, \"#bd3786\"], [0.5555555555555556, \"#d8576b\"], [0.6666666666666666, \"#ed7953\"], [0.7777777777777778, \"#fb9f3a\"], [0.8888888888888888, \"#fdca26\"], [1.0, \"#f0f921\"]], \"sequentialminus\": [[0.0, \"#0d0887\"], [0.1111111111111111, \"#46039f\"], [0.2222222222222222, \"#7201a8\"], [0.3333333333333333, \"#9c179e\"], [0.4444444444444444, \"#bd3786\"], [0.5555555555555556, \"#d8576b\"], [0.6666666666666666, \"#ed7953\"], [0.7777777777777778, \"#fb9f3a\"], [0.8888888888888888, \"#fdca26\"], [1.0, \"#f0f921\"]]}, \"colorway\": [\"#636efa\", \"#EF553B\", \"#00cc96\", \"#ab63fa\", \"#FFA15A\", \"#19d3f3\", \"#FF6692\", \"#B6E880\", \"#FF97FF\", \"#FECB52\"], \"font\": {\"color\": \"#2a3f5f\"}, \"geo\": {\"bgcolor\": \"white\", \"lakecolor\": \"white\", \"landcolor\": \"#E5ECF6\", \"showlakes\": true, \"showland\": true, \"subunitcolor\": \"white\"}, \"hoverlabel\": {\"align\": \"left\"}, \"hovermode\": \"closest\", \"mapbox\": {\"style\": \"light\"}, \"paper_bgcolor\": \"white\", \"plot_bgcolor\": \"#E5ECF6\", \"polar\": {\"angularaxis\": {\"gridcolor\": \"white\", \"linecolor\": \"white\", \"ticks\": \"\"}, \"bgcolor\": \"#E5ECF6\", \"radialaxis\": {\"gridcolor\": \"white\", \"linecolor\": \"white\", \"ticks\": \"\"}}, \"scene\": {\"xaxis\": {\"backgroundcolor\": \"#E5ECF6\", \"gridcolor\": \"white\", \"gridwidth\": 2, \"linecolor\": \"white\", \"showbackground\": true, \"ticks\": \"\", \"zerolinecolor\": \"white\"}, \"yaxis\": {\"backgroundcolor\": \"#E5ECF6\", \"gridcolor\": \"white\", \"gridwidth\": 2, \"linecolor\": \"white\", \"showbackground\": true, \"ticks\": \"\", \"zerolinecolor\": \"white\"}, \"zaxis\": {\"backgroundcolor\": \"#E5ECF6\", \"gridcolor\": \"white\", \"gridwidth\": 2, \"linecolor\": \"white\", \"showbackground\": true, \"ticks\": \"\", \"zerolinecolor\": \"white\"}}, \"shapedefaults\": {\"line\": {\"color\": \"#2a3f5f\"}}, \"ternary\": {\"aaxis\": {\"gridcolor\": \"white\", \"linecolor\": \"white\", \"ticks\": \"\"}, \"baxis\": {\"gridcolor\": \"white\", \"linecolor\": \"white\", \"ticks\": \"\"}, \"bgcolor\": \"#E5ECF6\", \"caxis\": {\"gridcolor\": \"white\", \"linecolor\": \"white\", \"ticks\": \"\"}}, \"title\": {\"x\": 0.05}, \"xaxis\": {\"automargin\": true, \"gridcolor\": \"white\", \"linecolor\": \"white\", \"ticks\": \"\", \"title\": {\"standoff\": 15}, \"zerolinecolor\": \"white\", \"zerolinewidth\": 2}, \"yaxis\": {\"automargin\": true, \"gridcolor\": \"white\", \"linecolor\": \"white\", \"ticks\": \"\", \"title\": {\"standoff\": 15}, \"zerolinecolor\": \"white\", \"zerolinewidth\": 2}}}, \"title\": {\"text\": \"Distribution of Food Venues in Norwalk\"}, \"xaxis\": {\"anchor\": \"y\", \"domain\": [0.0, 1.0], \"title\": {\"text\": \"Venue Category\"}}, \"yaxis\": {\"anchor\": \"x\", \"domain\": [0.0, 1.0], \"title\": {\"text\": \"Count\"}}},                        {\"responsive\": true}                    ).then(function(){\n                            \nvar gd = document.getElementById('0c3abf7c-e21b-4fc7-ae47-384bf00c5672');\nvar x = new MutationObserver(function (mutations, observer) {{\n        var display = window.getComputedStyle(gd).display;\n        if (!display || display === 'none') {{\n            console.log([gd, 'removed!']);\n            Plotly.purge(gd);\n            observer.disconnect();\n        }}\n}});\n\n// Listen for the removal of the full notebook cells\nvar notebookContainer = gd.closest('#notebook-container');\nif (notebookContainer) {{\n    x.observe(notebookContainer, {childList: true});\n}}\n\n// Listen for the clearing of the current output cell\nvar outputEl = gd.closest('.output');\nif (outputEl) {{\n    x.observe(outputEl, {childList: true});\n}}\n\n                        })                };                });            </script>        </div>"
     },
     "metadata": {},
     "output_type": "display_data"
    }
   ],
   "source": [
    "import plotly.express as px\n",
    "fig = px.bar(df_sorted, x=\"Venue Category\", y=\"Count\", title='Distribution of Food Venues in Norwalk')\n",
    "fig.show()"
   ],
   "metadata": {
    "collapsed": false,
    "pycharm": {
     "name": "#%%\n"
    }
   }
  },
  {
   "cell_type": "code",
   "execution_count": 90,
   "outputs": [],
   "source": [],
   "metadata": {
    "collapsed": false,
    "pycharm": {
     "name": "#%%\n"
    }
   }
  },
  {
   "cell_type": "code",
   "execution_count": 46,
   "outputs": [],
   "source": [],
   "metadata": {
    "collapsed": false,
    "pycharm": {
     "name": "#%%\n"
    }
   }
  },
  {
   "cell_type": "code",
   "execution_count": null,
   "outputs": [],
   "source": [],
   "metadata": {
    "collapsed": false,
    "pycharm": {
     "name": "#%%\n"
    }
   }
  }
 ],
 "metadata": {
  "kernelspec": {
   "display_name": "Python 3",
   "language": "python",
   "name": "python3"
  },
  "language_info": {
   "codemirror_mode": {
    "name": "ipython",
    "version": 2
   },
   "file_extension": ".py",
   "mimetype": "text/x-python",
   "name": "python",
   "nbconvert_exporter": "python",
   "pygments_lexer": "ipython2",
   "version": "2.7.6"
  }
 },
 "nbformat": 4,
 "nbformat_minor": 0
}