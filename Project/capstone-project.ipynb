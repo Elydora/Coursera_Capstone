{
 "cells": [
  {
   "cell_type": "markdown",
   "metadata": {
    "collapsed": true,
    "pycharm": {
     "name": "#%% md\n"
    }
   },
   "source": [
    "# Capstone Project\n",
    "## Finding a possible location and type for a restaurant in Los Angeles County, CA"
   ]
  },
  {
   "cell_type": "markdown",
   "source": [
    "## Table of contents\n",
    "* [Introduction: Business Problem](#introduction)\n",
    "* [Data](#data)\n",
    "* [Methodology](#methodology)\n",
    "* [Analysis](#analysis)\n",
    "* [Results and Discussion](#results)\n",
    "* [Conclusion](#conclusion)\n"
   ],
   "metadata": {
    "collapsed": false
   }
  },
  {
   "cell_type": "markdown",
   "source": [
    "## Introduction: Business Problem <a name=\"introduction\"></a>\n"
   ],
   "metadata": {
    "collapsed": false
   }
  },
  {
   "cell_type": "markdown",
   "source": [
    "In this project I will try to give a recommendation on where to open a\n",
    "restaurant in Los Angeles County, CA. In addition, there shall be given  a\n",
    "recommendation of which type of restaurant could be opened, based on\n",
    "existing restaurants in the area and generally popular restaurants in the\n",
    "whole county.\n",
    "\n",
    "The decision on where to open a restaurant can be based on many factors,\n",
    "depending on the target group. For example, one could look for very dense\n",
    "populated areas, or areas with lots of wealthy citizens.\n",
    "\n",
    "I will make a decision based on the following conditions:\n",
    "- Find the area with a good balance between number of possible customers\n",
    "and a high median income\n",
    "- the type of restaurant will be determined by the most recommended categories\n",
    " of food venue in Los Angeles County, CA and the number of already existing\n",
    " venues in\n",
    "  the area\n"
   ],
   "metadata": {
    "collapsed": false
   }
  },
  {
   "cell_type": "markdown",
   "source": [
    "## Data <a name=\"data\"></a>"
   ],
   "metadata": {
    "collapsed": false
   }
  },
  {
   "cell_type": "markdown",
   "source": [
    "I used three different datasets as basis for my analysis. Using these\n",
    "datasets I am able to work with the following features, among others:\n",
    "- A list of areas in Los Angeles County, CA based on the ZIP code\n",
    "- The number of citizens and households in every area\n",
    "- The estimated median income of every area\n",
    "- The latitude and longitude for every zip code in the county\n",
    "\n",
    "<br />\n",
    "\n",
    "I combined the following datasets for this:\n",
    "-\t2010 Los Angeles Census Data\n",
    "    - \thttps://www.kaggle.com/cityofLA/los-angeles-census-data\n",
    "-\tMedian Household Income by Zip Code in 2019\n",
    "    -\thttp://www.laalmanac.com/employment/em12c.php\n",
    "-\tUS Zip Code Latitude and Longitude\n",
    "    -   https://public.opendatasoft.com/explore/dataset/us-zip-code-latitude-and-longitude/information/\n",
    "\n",
    "To analyse the existing food venues in the county, the **Foursquare API** is\n",
    " used. With this API we can provide the data to answer the following two\n",
    " questions:\n",
    "- What are the most recommended types of restaurants in the county?\n",
    "- What are the existing food venues categories in the area where we want to\n",
    "open a restaurant in?"
   ],
   "metadata": {
    "collapsed": false
   }
  },
  {
   "cell_type": "code",
   "execution_count": null,
   "outputs": [],
   "source": [],
   "metadata": {
    "collapsed": false,
    "pycharm": {
     "name": "#%%\n"
    }
   }
  }
 ],
 "metadata": {
  "kernelspec": {
   "display_name": "Python 3",
   "language": "python",
   "name": "python3"
  },
  "language_info": {
   "codemirror_mode": {
    "name": "ipython",
    "version": 2
   },
   "file_extension": ".py",
   "mimetype": "text/x-python",
   "name": "python",
   "nbconvert_exporter": "python",
   "pygments_lexer": "ipython2",
   "version": "2.7.6"
  }
 },
 "nbformat": 4,
 "nbformat_minor": 0
}