{
 "cells": [
  {
   "cell_type": "markdown",
   "metadata": {
    "collapsed": true,
    "pycharm": {
     "name": "#%% md\n"
    }
   },
   "source": [
    "# Capstone Project\n",
    "## Finding a possible location and type for a restaurant in Los Angeles County, CA"
   ]
  },
  {
   "cell_type": "markdown",
   "source": [
    "## Table of contents\n",
    "* [Introduction: Business Problem](#introduction)\n",
    "* [Data](#data)\n",
    "* [Methodology](#methodology)\n",
    "* [Analysis](#analysis)\n",
    "* [Results and Discussion](#results)\n",
    "* [Conclusion](#conclusion)\n"
   ],
   "metadata": {
    "collapsed": false
   }
  },
  {
   "cell_type": "markdown",
   "source": [
    "## Introduction: Business Problem <a name=\"introduction\"></a>\n"
   ],
   "metadata": {
    "collapsed": false
   }
  },
  {
   "cell_type": "markdown",
   "source": [
    "In this project I will try to give a recommendation on where to open a\n",
    "restaurant in Los Angeles County, CA. In addition, there shall be given  a\n",
    "recommendation of which type of restaurant could be opened, based on\n",
    "existing restaurants in the area and generally popular restaurants in the\n",
    "whole county.\n",
    "\n",
    "The decision on where to open a restaurant can be based on many factors,\n",
    "depending on the target group. For example, one could look for very dense\n",
    "populated areas, or areas with lots of wealthy citizens.\n",
    "\n",
    "I will make a decision based on the following conditions:\n",
    "- Find the area with a good balance between number of possible customers\n",
    "and a high median income\n",
    "- the type of restaurant will be determined by the most recommended categories\n",
    " of food venue in Los Angeles County, CA and the number of already existing\n",
    " venues in\n",
    "  the area\n"
   ],
   "metadata": {
    "collapsed": false
   }
  },
  {
   "cell_type": "markdown",
   "source": [
    "## Data <a name=\"data\"></a>"
   ],
   "metadata": {
    "collapsed": false
   }
  },
  {
   "cell_type": "markdown",
   "source": [
    "I used three different datasets as basis for my analysis. Using these\n",
    "datasets I am able to work with the following features, among others:\n",
    "- A list of areas in Los Angeles County, CA based on the ZIP code\n",
    "- The number of citizens and households in every area\n",
    "- The estimated median income of every area\n",
    "- The latitude and longitude for every zip code in the county\n",
    "\n",
    "<br />\n",
    "\n",
    "I combined the following datasets for this:\n",
    "-\t2010 Los Angeles Census Data\n",
    "    - \thttps://www.kaggle.com/cityofLA/los-angeles-census-data\n",
    "-\tMedian Household Income by Zip Code in 2019\n",
    "    -\thttp://www.laalmanac.com/employment/em12c.php\n",
    "-\tUS Zip Code Latitude and Longitude\n",
    "    -   https://public.opendatasoft.com/explore/dataset/us-zip-code-latitude-and-longitude/information/\n",
    "\n",
    "To analyse the existing food venues in the county, the **Foursquare API** is\n",
    " used. With this API we can provide the data to answer the following two\n",
    " questions:\n",
    "- What are the most recommended types of restaurants in the county?\n",
    "- What are the existing food venues categories in the area where we want to\n",
    "open a restaurant in?"
   ],
   "metadata": {
    "collapsed": false
   }
  },
  {
   "cell_type": "markdown",
   "source": [
    "<br />\n",
    "\n",
    "#### Merging the three datasets as basis of the analytics\n",
    "First, let's merge all three datasets and get rid of unnecessary\n",
    "information. I will continue to use a single dataframe with the combined\n",
    "datasets as basis for further analysis."
   ],
   "metadata": {
    "collapsed": false,
    "pycharm": {
     "name": "#%% md\n"
    }
   }
  },
  {
   "cell_type": "code",
   "execution_count": 1,
   "outputs": [
    {
     "data": {
      "text/plain": "    Zip Code         City                                          Community  \\\n1      90001  Los Angeles   Los Angeles (South Los Angeles), Florence-Graham   \n2      90002  Los Angeles         Los Angeles (Southeast Los Angeles, Watts)   \n3      90003  Los Angeles  Los Angeles (South Los Angeles, Southeast Los ...   \n4      90004  Los Angeles  Los Angeles (Hancock Park, Rampart Village, Vi...   \n5      90005  Los Angeles  Los Angeles (Hancock Park, Koreatown, Wilshire...   \n6      90006  Los Angeles  Los Angeles (Byzantine-Latino Quarter, Harvard...   \n7      90007  Los Angeles  Los Angeles (Southeast Los Angeles, Univerity ...   \n8      90008  Los Angeles  Los Angeles (Baldwin Hills, Crenshaw, Leimert ...   \n9      90010  Los Angeles  Los Angeles (Hancock Park, Wilshire Center, Wi...   \n10     90011  Los Angeles                Los Angeles (Southeast Los Angeles)   \n\n    Estimated Median Income  Longitude   Latitude  Total Population  \\\n1                   43360.0 -118.24878  33.972914             57110   \n2                   37285.0 -118.24845  33.948315             51223   \n3                   40598.0 -118.27600  33.962714             66266   \n4                   49675.0 -118.30755  34.077110             62180   \n5                   38491.0 -118.30848  34.058911             37681   \n6                   37072.0 -118.29430  34.048351             59185   \n7                   27406.0 -118.28290  34.026448             40920   \n8                   43364.0 -118.33705  34.009754             32327   \n9                   63112.0 -118.31481  34.062709              3800   \n10                  40940.0 -118.25868  34.007063            103892   \n\n    Median Age  Total Males  Total Females  Total Households  \\\n1         26.6        28468          28642             12971   \n2         25.5        24876          26347             11731   \n3         26.3        32631          33635             15642   \n4         34.8        31302          30878             22547   \n5         33.9        19299          18382             15044   \n6         32.4        30254          28931             18617   \n7         24.0        20915          20005             11944   \n8         39.7        14477          17850             13841   \n9         37.8         1874           1926              2014   \n10        26.2        52794          51098             22168   \n\n    Average Household Size  \n1                     4.40  \n2                     4.36  \n3                     4.22  \n4                     2.73  \n5                     2.50  \n6                     3.13  \n7                     3.00  \n8                     2.33  \n9                     1.87  \n10                    4.67  ",
      "text/html": "<div>\n<style scoped>\n    .dataframe tbody tr th:only-of-type {\n        vertical-align: middle;\n    }\n\n    .dataframe tbody tr th {\n        vertical-align: top;\n    }\n\n    .dataframe thead th {\n        text-align: right;\n    }\n</style>\n<table border=\"1\" class=\"dataframe\">\n  <thead>\n    <tr style=\"text-align: right;\">\n      <th></th>\n      <th>Zip Code</th>\n      <th>City</th>\n      <th>Community</th>\n      <th>Estimated Median Income</th>\n      <th>Longitude</th>\n      <th>Latitude</th>\n      <th>Total Population</th>\n      <th>Median Age</th>\n      <th>Total Males</th>\n      <th>Total Females</th>\n      <th>Total Households</th>\n      <th>Average Household Size</th>\n    </tr>\n  </thead>\n  <tbody>\n    <tr>\n      <th>1</th>\n      <td>90001</td>\n      <td>Los Angeles</td>\n      <td>Los Angeles (South Los Angeles), Florence-Graham</td>\n      <td>43360.0</td>\n      <td>-118.24878</td>\n      <td>33.972914</td>\n      <td>57110</td>\n      <td>26.6</td>\n      <td>28468</td>\n      <td>28642</td>\n      <td>12971</td>\n      <td>4.40</td>\n    </tr>\n    <tr>\n      <th>2</th>\n      <td>90002</td>\n      <td>Los Angeles</td>\n      <td>Los Angeles (Southeast Los Angeles, Watts)</td>\n      <td>37285.0</td>\n      <td>-118.24845</td>\n      <td>33.948315</td>\n      <td>51223</td>\n      <td>25.5</td>\n      <td>24876</td>\n      <td>26347</td>\n      <td>11731</td>\n      <td>4.36</td>\n    </tr>\n    <tr>\n      <th>3</th>\n      <td>90003</td>\n      <td>Los Angeles</td>\n      <td>Los Angeles (South Los Angeles, Southeast Los ...</td>\n      <td>40598.0</td>\n      <td>-118.27600</td>\n      <td>33.962714</td>\n      <td>66266</td>\n      <td>26.3</td>\n      <td>32631</td>\n      <td>33635</td>\n      <td>15642</td>\n      <td>4.22</td>\n    </tr>\n    <tr>\n      <th>4</th>\n      <td>90004</td>\n      <td>Los Angeles</td>\n      <td>Los Angeles (Hancock Park, Rampart Village, Vi...</td>\n      <td>49675.0</td>\n      <td>-118.30755</td>\n      <td>34.077110</td>\n      <td>62180</td>\n      <td>34.8</td>\n      <td>31302</td>\n      <td>30878</td>\n      <td>22547</td>\n      <td>2.73</td>\n    </tr>\n    <tr>\n      <th>5</th>\n      <td>90005</td>\n      <td>Los Angeles</td>\n      <td>Los Angeles (Hancock Park, Koreatown, Wilshire...</td>\n      <td>38491.0</td>\n      <td>-118.30848</td>\n      <td>34.058911</td>\n      <td>37681</td>\n      <td>33.9</td>\n      <td>19299</td>\n      <td>18382</td>\n      <td>15044</td>\n      <td>2.50</td>\n    </tr>\n    <tr>\n      <th>6</th>\n      <td>90006</td>\n      <td>Los Angeles</td>\n      <td>Los Angeles (Byzantine-Latino Quarter, Harvard...</td>\n      <td>37072.0</td>\n      <td>-118.29430</td>\n      <td>34.048351</td>\n      <td>59185</td>\n      <td>32.4</td>\n      <td>30254</td>\n      <td>28931</td>\n      <td>18617</td>\n      <td>3.13</td>\n    </tr>\n    <tr>\n      <th>7</th>\n      <td>90007</td>\n      <td>Los Angeles</td>\n      <td>Los Angeles (Southeast Los Angeles, Univerity ...</td>\n      <td>27406.0</td>\n      <td>-118.28290</td>\n      <td>34.026448</td>\n      <td>40920</td>\n      <td>24.0</td>\n      <td>20915</td>\n      <td>20005</td>\n      <td>11944</td>\n      <td>3.00</td>\n    </tr>\n    <tr>\n      <th>8</th>\n      <td>90008</td>\n      <td>Los Angeles</td>\n      <td>Los Angeles (Baldwin Hills, Crenshaw, Leimert ...</td>\n      <td>43364.0</td>\n      <td>-118.33705</td>\n      <td>34.009754</td>\n      <td>32327</td>\n      <td>39.7</td>\n      <td>14477</td>\n      <td>17850</td>\n      <td>13841</td>\n      <td>2.33</td>\n    </tr>\n    <tr>\n      <th>9</th>\n      <td>90010</td>\n      <td>Los Angeles</td>\n      <td>Los Angeles (Hancock Park, Wilshire Center, Wi...</td>\n      <td>63112.0</td>\n      <td>-118.31481</td>\n      <td>34.062709</td>\n      <td>3800</td>\n      <td>37.8</td>\n      <td>1874</td>\n      <td>1926</td>\n      <td>2014</td>\n      <td>1.87</td>\n    </tr>\n    <tr>\n      <th>10</th>\n      <td>90011</td>\n      <td>Los Angeles</td>\n      <td>Los Angeles (Southeast Los Angeles)</td>\n      <td>40940.0</td>\n      <td>-118.25868</td>\n      <td>34.007063</td>\n      <td>103892</td>\n      <td>26.2</td>\n      <td>52794</td>\n      <td>51098</td>\n      <td>22168</td>\n      <td>4.67</td>\n    </tr>\n  </tbody>\n</table>\n</div>"
     },
     "execution_count": 1,
     "metadata": {},
     "output_type": "execute_result"
    }
   ],
   "source": [
    "import pandas as pd\n",
    "\n",
    "# Dataset: 2010 Los Angeles Census Data\n",
    "df_census = pd.read_csv(\"2010-census-populations-by-zip-code.csv\")\n",
    "# Dataset: Median Household Income by Zip Code in 2019\n",
    "url = \"Median Household Income By Zip Code in Los Angeles County, California.html\"\n",
    "dfs = pd.read_html(url)\n",
    "df_income_all = dfs[0]\n",
    "# drop areas where the median income is missing\n",
    "df_income_na = df_income_all[df_income_all['Estimated Median Income'].notna()]\n",
    "\n",
    "df_income = df_income_na.drop(df_income_na[df_income_na[\n",
    "                             'Estimated Median Income'] == '---'].index)\n",
    "df_income['Estimated Median Income'] = \\\n",
    "    df_income['Estimated Median Income'].map(lambda x: x.lstrip('$'))\n",
    "df_income['Estimated Median Income'] =\\\n",
    "    df_income['Estimated Median Income'].str.replace(',','')\n",
    "df_income[\"Estimated Median Income\"] =\\\n",
    "    pd.to_numeric(df_income[\"Estimated Median Income\"])\n",
    "# Dataset: US Zip Code Latitude and Longitude\n",
    "df_geodata = pd.read_csv(\"us-zip-code-latitude-and-longitude.csv\", sep=';')\n",
    "# Let's start by joining the geodata on the income dataset via the zip code\n",
    "df_income_geo = df_census.join(df_income.set_index('Zip Code'), on='Zip Code')\n",
    "# Now join the census data with the income dataset and the geodata\n",
    "dataset_geo = df_income_geo.join(df_geodata.set_index('Zip'), on='Zip Code',\n",
    "                           how='left')\n",
    "# Let us drop the columns that are not of interest for my further analysis\n",
    "#dataset_geo.drop(columns=[ 'State', 'Timezone', 'Daylight savings time '\n",
    "#                           'flag', 'geopoint'], inplace = True)\n",
    "#dataset = df_income_geo[df_income_geo['Estimated Median Income'].notna()]\n",
    "prepared_ds = dataset_geo[[\n",
    "  \"Zip Code\", \"City\", \"Community\", \"Estimated Median Income\",\n",
    "  \"Longitude\", \"Latitude\", \"Total Population\", \"Median Age\",\n",
    "  \"Total Males\", \"Total Females\", \"Total Households\",\n",
    "  \"Average Household Size\"]]\n",
    "\n",
    "#ppds = prepared_ds.drop(prepared_ds[prepared_ds['Estimated Median Income'] ==\n",
    "#                             '---'].index)\n",
    "final_ds = prepared_ds.dropna(axis=0)\n",
    "\n",
    "final_ds.head(10)"
   ],
   "metadata": {
    "collapsed": false,
    "pycharm": {
     "name": "#%%\n"
    }
   }
  },
  {
   "cell_type": "code",
   "execution_count": 3,
   "outputs": [
    {
     "data": {
      "text/plain": "(279, 12)"
     },
     "execution_count": 3,
     "metadata": {},
     "output_type": "execute_result"
    }
   ],
   "source": [
    "final_ds.shape"
   ],
   "metadata": {
    "collapsed": false,
    "pycharm": {
     "name": "#%%\n"
    }
   }
  },
  {
   "cell_type": "code",
   "execution_count": null,
   "outputs": [],
   "source": [],
   "metadata": {
    "collapsed": false,
    "pycharm": {
     "name": "#%%\n"
    }
   }
  }
 ],
 "metadata": {
  "kernelspec": {
   "display_name": "Python 3",
   "language": "python",
   "name": "python3"
  },
  "language_info": {
   "codemirror_mode": {
    "name": "ipython",
    "version": 2
   },
   "file_extension": ".py",
   "mimetype": "text/x-python",
   "name": "python",
   "nbconvert_exporter": "python",
   "pygments_lexer": "ipython2",
   "version": "2.7.6"
  }
 },
 "nbformat": 4,
 "nbformat_minor": 0
}