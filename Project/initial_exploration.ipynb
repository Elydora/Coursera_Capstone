{
 "cells": [
  {
   "cell_type": "code",
   "execution_count": 1,
   "metadata": {
    "collapsed": true
   },
   "outputs": [],
   "source": [
    "import pandas as pd\n"
   ]
  },
  {
   "cell_type": "code",
   "execution_count": 5,
   "outputs": [],
   "source": [
    "url = \"Median Household Income By Zip Code in Los Angeles County, California.html\"\n",
    "dfs = pd.read_html(url)\n",
    "df_income = dfs[0]"
   ],
   "metadata": {
    "collapsed": false,
    "pycharm": {
     "name": "#%%\n"
    }
   }
  },
  {
   "cell_type": "code",
   "execution_count": 6,
   "outputs": [
    {
     "data": {
      "text/plain": "   Zip Code  Total Population  Median Age  Total Males  Total Females  \\\n0     91371                 1        73.5            0              1   \n1     90001             57110        26.6        28468          28642   \n2     90002             51223        25.5        24876          26347   \n3     90003             66266        26.3        32631          33635   \n4     90004             62180        34.8        31302          30878   \n\n   Total Households  Average Household Size  \n0                 1                    1.00  \n1             12971                    4.40  \n2             11731                    4.36  \n3             15642                    4.22  \n4             22547                    2.73  ",
      "text/html": "<div>\n<style scoped>\n    .dataframe tbody tr th:only-of-type {\n        vertical-align: middle;\n    }\n\n    .dataframe tbody tr th {\n        vertical-align: top;\n    }\n\n    .dataframe thead th {\n        text-align: right;\n    }\n</style>\n<table border=\"1\" class=\"dataframe\">\n  <thead>\n    <tr style=\"text-align: right;\">\n      <th></th>\n      <th>Zip Code</th>\n      <th>Total Population</th>\n      <th>Median Age</th>\n      <th>Total Males</th>\n      <th>Total Females</th>\n      <th>Total Households</th>\n      <th>Average Household Size</th>\n    </tr>\n  </thead>\n  <tbody>\n    <tr>\n      <th>0</th>\n      <td>91371</td>\n      <td>1</td>\n      <td>73.5</td>\n      <td>0</td>\n      <td>1</td>\n      <td>1</td>\n      <td>1.00</td>\n    </tr>\n    <tr>\n      <th>1</th>\n      <td>90001</td>\n      <td>57110</td>\n      <td>26.6</td>\n      <td>28468</td>\n      <td>28642</td>\n      <td>12971</td>\n      <td>4.40</td>\n    </tr>\n    <tr>\n      <th>2</th>\n      <td>90002</td>\n      <td>51223</td>\n      <td>25.5</td>\n      <td>24876</td>\n      <td>26347</td>\n      <td>11731</td>\n      <td>4.36</td>\n    </tr>\n    <tr>\n      <th>3</th>\n      <td>90003</td>\n      <td>66266</td>\n      <td>26.3</td>\n      <td>32631</td>\n      <td>33635</td>\n      <td>15642</td>\n      <td>4.22</td>\n    </tr>\n    <tr>\n      <th>4</th>\n      <td>90004</td>\n      <td>62180</td>\n      <td>34.8</td>\n      <td>31302</td>\n      <td>30878</td>\n      <td>22547</td>\n      <td>2.73</td>\n    </tr>\n  </tbody>\n</table>\n</div>"
     },
     "execution_count": 6,
     "metadata": {},
     "output_type": "execute_result"
    }
   ],
   "source": [
    "df_census = pd.read_csv(\"2010-census-populations-by-zip-code.csv\")\n",
    "df_census.head()"
   ],
   "metadata": {
    "collapsed": false,
    "pycharm": {
     "name": "#%%\n"
    }
   }
  },
  {
   "cell_type": "code",
   "execution_count": 8,
   "outputs": [],
   "source": [
    "merged_data = df_census.join(df_income.set_index('Zip Code'), on='Zip Code')"
   ],
   "metadata": {
    "collapsed": false,
    "pycharm": {
     "name": "#%%\n"
    }
   }
  },
  {
   "cell_type": "code",
   "execution_count": 9,
   "outputs": [
    {
     "data": {
      "text/plain": "   Zip Code  Total Population  Median Age  Total Males  Total Females  \\\n1     90001             57110        26.6        28468          28642   \n2     90002             51223        25.5        24876          26347   \n3     90003             66266        26.3        32631          33635   \n4     90004             62180        34.8        31302          30878   \n5     90005             37681        33.9        19299          18382   \n\n   Total Households  Average Household Size  \\\n1             12971                    4.40   \n2             11731                    4.36   \n3             15642                    4.22   \n4             22547                    2.73   \n5             15044                    2.50   \n\n                                           Community Estimated Median Income  \n1   Los Angeles (South Los Angeles), Florence-Graham                 $43,360  \n2         Los Angeles (Southeast Los Angeles, Watts)                 $37,285  \n3  Los Angeles (South Los Angeles, Southeast Los ...                 $40,598  \n4  Los Angeles (Hancock Park, Rampart Village, Vi...                 $49,675  \n5  Los Angeles (Hancock Park, Koreatown, Wilshire...                 $38,491  ",
      "text/html": "<div>\n<style scoped>\n    .dataframe tbody tr th:only-of-type {\n        vertical-align: middle;\n    }\n\n    .dataframe tbody tr th {\n        vertical-align: top;\n    }\n\n    .dataframe thead th {\n        text-align: right;\n    }\n</style>\n<table border=\"1\" class=\"dataframe\">\n  <thead>\n    <tr style=\"text-align: right;\">\n      <th></th>\n      <th>Zip Code</th>\n      <th>Total Population</th>\n      <th>Median Age</th>\n      <th>Total Males</th>\n      <th>Total Females</th>\n      <th>Total Households</th>\n      <th>Average Household Size</th>\n      <th>Community</th>\n      <th>Estimated Median Income</th>\n    </tr>\n  </thead>\n  <tbody>\n    <tr>\n      <th>1</th>\n      <td>90001</td>\n      <td>57110</td>\n      <td>26.6</td>\n      <td>28468</td>\n      <td>28642</td>\n      <td>12971</td>\n      <td>4.40</td>\n      <td>Los Angeles (South Los Angeles), Florence-Graham</td>\n      <td>$43,360</td>\n    </tr>\n    <tr>\n      <th>2</th>\n      <td>90002</td>\n      <td>51223</td>\n      <td>25.5</td>\n      <td>24876</td>\n      <td>26347</td>\n      <td>11731</td>\n      <td>4.36</td>\n      <td>Los Angeles (Southeast Los Angeles, Watts)</td>\n      <td>$37,285</td>\n    </tr>\n    <tr>\n      <th>3</th>\n      <td>90003</td>\n      <td>66266</td>\n      <td>26.3</td>\n      <td>32631</td>\n      <td>33635</td>\n      <td>15642</td>\n      <td>4.22</td>\n      <td>Los Angeles (South Los Angeles, Southeast Los ...</td>\n      <td>$40,598</td>\n    </tr>\n    <tr>\n      <th>4</th>\n      <td>90004</td>\n      <td>62180</td>\n      <td>34.8</td>\n      <td>31302</td>\n      <td>30878</td>\n      <td>22547</td>\n      <td>2.73</td>\n      <td>Los Angeles (Hancock Park, Rampart Village, Vi...</td>\n      <td>$49,675</td>\n    </tr>\n    <tr>\n      <th>5</th>\n      <td>90005</td>\n      <td>37681</td>\n      <td>33.9</td>\n      <td>19299</td>\n      <td>18382</td>\n      <td>15044</td>\n      <td>2.50</td>\n      <td>Los Angeles (Hancock Park, Koreatown, Wilshire...</td>\n      <td>$38,491</td>\n    </tr>\n  </tbody>\n</table>\n</div>"
     },
     "execution_count": 9,
     "metadata": {},
     "output_type": "execute_result"
    }
   ],
   "source": [
    "dataset = merged_data[merged_data['Estimated Median Income'].notna()]\n",
    "dataset.head()"
   ],
   "metadata": {
    "collapsed": false,
    "pycharm": {
     "name": "#%%\n"
    }
   }
  },
  {
   "cell_type": "code",
   "execution_count": 10,
   "outputs": [
    {
     "data": {
      "text/plain": "(282, 9)"
     },
     "execution_count": 10,
     "metadata": {},
     "output_type": "execute_result"
    }
   ],
   "source": [
    "dataset.shape"
   ],
   "metadata": {
    "collapsed": false,
    "pycharm": {
     "name": "#%%\n"
    }
   }
  },
  {
   "cell_type": "code",
   "execution_count": 14,
   "outputs": [
    {
     "data": {
      "text/plain": "     Zip       City State   Latitude  Longitude  Timezone  \\\n0  38732  Cleveland    MS  33.749149  -90.71329        -6   \n1  47872  Rockville    IN  39.758142  -87.17540        -5   \n2  50049   Chariton    IA  41.028910  -93.29857        -6   \n3  48463  Otisville    MI  43.167457  -83.52542        -5   \n4  51063    Whiting    IA  42.137272  -96.16648        -6   \n\n   Daylight savings time flag             geopoint  \n0                           1  33.749149,-90.71329  \n1                           0   39.758142,-87.1754  \n2                           1   41.02891,-93.29857  \n3                           1  43.167457,-83.52542  \n4                           1  42.137272,-96.16648  ",
      "text/html": "<div>\n<style scoped>\n    .dataframe tbody tr th:only-of-type {\n        vertical-align: middle;\n    }\n\n    .dataframe tbody tr th {\n        vertical-align: top;\n    }\n\n    .dataframe thead th {\n        text-align: right;\n    }\n</style>\n<table border=\"1\" class=\"dataframe\">\n  <thead>\n    <tr style=\"text-align: right;\">\n      <th></th>\n      <th>Zip</th>\n      <th>City</th>\n      <th>State</th>\n      <th>Latitude</th>\n      <th>Longitude</th>\n      <th>Timezone</th>\n      <th>Daylight savings time flag</th>\n      <th>geopoint</th>\n    </tr>\n  </thead>\n  <tbody>\n    <tr>\n      <th>0</th>\n      <td>38732</td>\n      <td>Cleveland</td>\n      <td>MS</td>\n      <td>33.749149</td>\n      <td>-90.71329</td>\n      <td>-6</td>\n      <td>1</td>\n      <td>33.749149,-90.71329</td>\n    </tr>\n    <tr>\n      <th>1</th>\n      <td>47872</td>\n      <td>Rockville</td>\n      <td>IN</td>\n      <td>39.758142</td>\n      <td>-87.17540</td>\n      <td>-5</td>\n      <td>0</td>\n      <td>39.758142,-87.1754</td>\n    </tr>\n    <tr>\n      <th>2</th>\n      <td>50049</td>\n      <td>Chariton</td>\n      <td>IA</td>\n      <td>41.028910</td>\n      <td>-93.29857</td>\n      <td>-6</td>\n      <td>1</td>\n      <td>41.02891,-93.29857</td>\n    </tr>\n    <tr>\n      <th>3</th>\n      <td>48463</td>\n      <td>Otisville</td>\n      <td>MI</td>\n      <td>43.167457</td>\n      <td>-83.52542</td>\n      <td>-5</td>\n      <td>1</td>\n      <td>43.167457,-83.52542</td>\n    </tr>\n    <tr>\n      <th>4</th>\n      <td>51063</td>\n      <td>Whiting</td>\n      <td>IA</td>\n      <td>42.137272</td>\n      <td>-96.16648</td>\n      <td>-6</td>\n      <td>1</td>\n      <td>42.137272,-96.16648</td>\n    </tr>\n  </tbody>\n</table>\n</div>"
     },
     "execution_count": 14,
     "metadata": {},
     "output_type": "execute_result"
    }
   ],
   "source": [
    "geodata = pd.read_csv(\"us-zip-code-latitude-and-longitude.csv\", sep=';')\n",
    "geodata.head()"
   ],
   "metadata": {
    "collapsed": false,
    "pycharm": {
     "name": "#%%\n"
    }
   }
  },
  {
   "cell_type": "code",
   "execution_count": 15,
   "outputs": [
    {
     "data": {
      "text/plain": "   Zip Code  Total Population  Median Age  Total Males  Total Females  \\\n1     90001             57110        26.6        28468          28642   \n2     90002             51223        25.5        24876          26347   \n3     90003             66266        26.3        32631          33635   \n4     90004             62180        34.8        31302          30878   \n5     90005             37681        33.9        19299          18382   \n\n   Total Households  Average Household Size  \\\n1             12971                    4.40   \n2             11731                    4.36   \n3             15642                    4.22   \n4             22547                    2.73   \n5             15044                    2.50   \n\n                                           Community Estimated Median Income  \\\n1   Los Angeles (South Los Angeles), Florence-Graham                 $43,360   \n2         Los Angeles (Southeast Los Angeles, Watts)                 $37,285   \n3  Los Angeles (South Los Angeles, Southeast Los ...                 $40,598   \n4  Los Angeles (Hancock Park, Rampart Village, Vi...                 $49,675   \n5  Los Angeles (Hancock Park, Koreatown, Wilshire...                 $38,491   \n\n          City State   Latitude  Longitude  Timezone  \\\n1  Los Angeles    CA  33.972914 -118.24878      -8.0   \n2  Los Angeles    CA  33.948315 -118.24845      -8.0   \n3  Los Angeles    CA  33.962714 -118.27600      -8.0   \n4  Los Angeles    CA  34.077110 -118.30755      -8.0   \n5  Los Angeles    CA  34.058911 -118.30848      -8.0   \n\n   Daylight savings time flag              geopoint  \n1                         1.0  33.972914,-118.24878  \n2                         1.0  33.948315,-118.24845  \n3                         1.0    33.962714,-118.276  \n4                         1.0   34.07711,-118.30755  \n5                         1.0  34.058911,-118.30848  ",
      "text/html": "<div>\n<style scoped>\n    .dataframe tbody tr th:only-of-type {\n        vertical-align: middle;\n    }\n\n    .dataframe tbody tr th {\n        vertical-align: top;\n    }\n\n    .dataframe thead th {\n        text-align: right;\n    }\n</style>\n<table border=\"1\" class=\"dataframe\">\n  <thead>\n    <tr style=\"text-align: right;\">\n      <th></th>\n      <th>Zip Code</th>\n      <th>Total Population</th>\n      <th>Median Age</th>\n      <th>Total Males</th>\n      <th>Total Females</th>\n      <th>Total Households</th>\n      <th>Average Household Size</th>\n      <th>Community</th>\n      <th>Estimated Median Income</th>\n      <th>City</th>\n      <th>State</th>\n      <th>Latitude</th>\n      <th>Longitude</th>\n      <th>Timezone</th>\n      <th>Daylight savings time flag</th>\n      <th>geopoint</th>\n    </tr>\n  </thead>\n  <tbody>\n    <tr>\n      <th>1</th>\n      <td>90001</td>\n      <td>57110</td>\n      <td>26.6</td>\n      <td>28468</td>\n      <td>28642</td>\n      <td>12971</td>\n      <td>4.40</td>\n      <td>Los Angeles (South Los Angeles), Florence-Graham</td>\n      <td>$43,360</td>\n      <td>Los Angeles</td>\n      <td>CA</td>\n      <td>33.972914</td>\n      <td>-118.24878</td>\n      <td>-8.0</td>\n      <td>1.0</td>\n      <td>33.972914,-118.24878</td>\n    </tr>\n    <tr>\n      <th>2</th>\n      <td>90002</td>\n      <td>51223</td>\n      <td>25.5</td>\n      <td>24876</td>\n      <td>26347</td>\n      <td>11731</td>\n      <td>4.36</td>\n      <td>Los Angeles (Southeast Los Angeles, Watts)</td>\n      <td>$37,285</td>\n      <td>Los Angeles</td>\n      <td>CA</td>\n      <td>33.948315</td>\n      <td>-118.24845</td>\n      <td>-8.0</td>\n      <td>1.0</td>\n      <td>33.948315,-118.24845</td>\n    </tr>\n    <tr>\n      <th>3</th>\n      <td>90003</td>\n      <td>66266</td>\n      <td>26.3</td>\n      <td>32631</td>\n      <td>33635</td>\n      <td>15642</td>\n      <td>4.22</td>\n      <td>Los Angeles (South Los Angeles, Southeast Los ...</td>\n      <td>$40,598</td>\n      <td>Los Angeles</td>\n      <td>CA</td>\n      <td>33.962714</td>\n      <td>-118.27600</td>\n      <td>-8.0</td>\n      <td>1.0</td>\n      <td>33.962714,-118.276</td>\n    </tr>\n    <tr>\n      <th>4</th>\n      <td>90004</td>\n      <td>62180</td>\n      <td>34.8</td>\n      <td>31302</td>\n      <td>30878</td>\n      <td>22547</td>\n      <td>2.73</td>\n      <td>Los Angeles (Hancock Park, Rampart Village, Vi...</td>\n      <td>$49,675</td>\n      <td>Los Angeles</td>\n      <td>CA</td>\n      <td>34.077110</td>\n      <td>-118.30755</td>\n      <td>-8.0</td>\n      <td>1.0</td>\n      <td>34.07711,-118.30755</td>\n    </tr>\n    <tr>\n      <th>5</th>\n      <td>90005</td>\n      <td>37681</td>\n      <td>33.9</td>\n      <td>19299</td>\n      <td>18382</td>\n      <td>15044</td>\n      <td>2.50</td>\n      <td>Los Angeles (Hancock Park, Koreatown, Wilshire...</td>\n      <td>$38,491</td>\n      <td>Los Angeles</td>\n      <td>CA</td>\n      <td>34.058911</td>\n      <td>-118.30848</td>\n      <td>-8.0</td>\n      <td>1.0</td>\n      <td>34.058911,-118.30848</td>\n    </tr>\n  </tbody>\n</table>\n</div>"
     },
     "execution_count": 15,
     "metadata": {},
     "output_type": "execute_result"
    }
   ],
   "source": [
    "dataset_geo = dataset.join(geodata.set_index('Zip'), on='Zip Code', how='left')\n",
    "dataset_geo.head()"
   ],
   "metadata": {
    "collapsed": false,
    "pycharm": {
     "name": "#%%\n"
    }
   }
  },
  {
   "cell_type": "code",
   "execution_count": 17,
   "outputs": [
    {
     "data": {
      "text/plain": "   Zip Code  Total Population  Median Age  Total Males  Total Females  \\\n1     90001             57110        26.6        28468          28642   \n2     90002             51223        25.5        24876          26347   \n3     90003             66266        26.3        32631          33635   \n4     90004             62180        34.8        31302          30878   \n5     90005             37681        33.9        19299          18382   \n\n   Total Households  Average Household Size  \\\n1             12971                    4.40   \n2             11731                    4.36   \n3             15642                    4.22   \n4             22547                    2.73   \n5             15044                    2.50   \n\n                                           Community Estimated Median Income  \\\n1   Los Angeles (South Los Angeles), Florence-Graham                 $43,360   \n2         Los Angeles (Southeast Los Angeles, Watts)                 $37,285   \n3  Los Angeles (South Los Angeles, Southeast Los ...                 $40,598   \n4  Los Angeles (Hancock Park, Rampart Village, Vi...                 $49,675   \n5  Los Angeles (Hancock Park, Koreatown, Wilshire...                 $38,491   \n\n          City   Latitude  Longitude  \n1  Los Angeles  33.972914 -118.24878  \n2  Los Angeles  33.948315 -118.24845  \n3  Los Angeles  33.962714 -118.27600  \n4  Los Angeles  34.077110 -118.30755  \n5  Los Angeles  34.058911 -118.30848  ",
      "text/html": "<div>\n<style scoped>\n    .dataframe tbody tr th:only-of-type {\n        vertical-align: middle;\n    }\n\n    .dataframe tbody tr th {\n        vertical-align: top;\n    }\n\n    .dataframe thead th {\n        text-align: right;\n    }\n</style>\n<table border=\"1\" class=\"dataframe\">\n  <thead>\n    <tr style=\"text-align: right;\">\n      <th></th>\n      <th>Zip Code</th>\n      <th>Total Population</th>\n      <th>Median Age</th>\n      <th>Total Males</th>\n      <th>Total Females</th>\n      <th>Total Households</th>\n      <th>Average Household Size</th>\n      <th>Community</th>\n      <th>Estimated Median Income</th>\n      <th>City</th>\n      <th>Latitude</th>\n      <th>Longitude</th>\n    </tr>\n  </thead>\n  <tbody>\n    <tr>\n      <th>1</th>\n      <td>90001</td>\n      <td>57110</td>\n      <td>26.6</td>\n      <td>28468</td>\n      <td>28642</td>\n      <td>12971</td>\n      <td>4.40</td>\n      <td>Los Angeles (South Los Angeles), Florence-Graham</td>\n      <td>$43,360</td>\n      <td>Los Angeles</td>\n      <td>33.972914</td>\n      <td>-118.24878</td>\n    </tr>\n    <tr>\n      <th>2</th>\n      <td>90002</td>\n      <td>51223</td>\n      <td>25.5</td>\n      <td>24876</td>\n      <td>26347</td>\n      <td>11731</td>\n      <td>4.36</td>\n      <td>Los Angeles (Southeast Los Angeles, Watts)</td>\n      <td>$37,285</td>\n      <td>Los Angeles</td>\n      <td>33.948315</td>\n      <td>-118.24845</td>\n    </tr>\n    <tr>\n      <th>3</th>\n      <td>90003</td>\n      <td>66266</td>\n      <td>26.3</td>\n      <td>32631</td>\n      <td>33635</td>\n      <td>15642</td>\n      <td>4.22</td>\n      <td>Los Angeles (South Los Angeles, Southeast Los ...</td>\n      <td>$40,598</td>\n      <td>Los Angeles</td>\n      <td>33.962714</td>\n      <td>-118.27600</td>\n    </tr>\n    <tr>\n      <th>4</th>\n      <td>90004</td>\n      <td>62180</td>\n      <td>34.8</td>\n      <td>31302</td>\n      <td>30878</td>\n      <td>22547</td>\n      <td>2.73</td>\n      <td>Los Angeles (Hancock Park, Rampart Village, Vi...</td>\n      <td>$49,675</td>\n      <td>Los Angeles</td>\n      <td>34.077110</td>\n      <td>-118.30755</td>\n    </tr>\n    <tr>\n      <th>5</th>\n      <td>90005</td>\n      <td>37681</td>\n      <td>33.9</td>\n      <td>19299</td>\n      <td>18382</td>\n      <td>15044</td>\n      <td>2.50</td>\n      <td>Los Angeles (Hancock Park, Koreatown, Wilshire...</td>\n      <td>$38,491</td>\n      <td>Los Angeles</td>\n      <td>34.058911</td>\n      <td>-118.30848</td>\n    </tr>\n  </tbody>\n</table>\n</div>"
     },
     "execution_count": 17,
     "metadata": {},
     "output_type": "execute_result"
    }
   ],
   "source": [
    "dataset_geo.drop(columns=[\n",
    "  'State', 'Timezone', 'Daylight savings time flag', 'geopoint'],\n",
    "  inplace = True)\n",
    "dataset_geo.head()"
   ],
   "metadata": {
    "collapsed": false,
    "pycharm": {
     "name": "#%%\n"
    }
   }
  },
  {
   "cell_type": "code",
   "execution_count": 22,
   "outputs": [
    {
     "data": {
      "text/plain": "    Zip Code         City                                          Community  \\\n1      90001  Los Angeles   Los Angeles (South Los Angeles), Florence-Graham   \n2      90002  Los Angeles         Los Angeles (Southeast Los Angeles, Watts)   \n3      90003  Los Angeles  Los Angeles (South Los Angeles, Southeast Los ...   \n4      90004  Los Angeles  Los Angeles (Hancock Park, Rampart Village, Vi...   \n5      90005  Los Angeles  Los Angeles (Hancock Park, Koreatown, Wilshire...   \n6      90006  Los Angeles  Los Angeles (Byzantine-Latino Quarter, Harvard...   \n7      90007  Los Angeles  Los Angeles (Southeast Los Angeles, Univerity ...   \n8      90008  Los Angeles  Los Angeles (Baldwin Hills, Crenshaw, Leimert ...   \n9      90010  Los Angeles  Los Angeles (Hancock Park, Wilshire Center, Wi...   \n10     90011  Los Angeles                Los Angeles (Southeast Los Angeles)   \n11     90012  Los Angeles  Los Angeles (Downtown Civic Center, Chinatown,...   \n12     90013  Los Angeles  Los Angeles (Downtown Central, Downtown Fashio...   \n13     90014  Los Angeles  Los Angeles (Downtown Historic Core, Arts Dist...   \n14     90015  Los Angeles  Los Angeles (Dowtown Fashion District, South P...   \n15     90016  Los Angeles                           Los Angeles (West Adams)   \n\n   Estimated Median Income  Longitude   Latitude  Total Population  \\\n1                  $43,360 -118.24878  33.972914             57110   \n2                  $37,285 -118.24845  33.948315             51223   \n3                  $40,598 -118.27600  33.962714             66266   \n4                  $49,675 -118.30755  34.077110             62180   \n5                  $38,491 -118.30848  34.058911             37681   \n6                  $37,072 -118.29430  34.048351             59185   \n7                  $27,406 -118.28290  34.026448             40920   \n8                  $43,364 -118.33705  34.009754             32327   \n9                  $63,112 -118.31481  34.062709              3800   \n10                 $40,940 -118.25868  34.007063            103892   \n11                 $47,027 -118.23944  34.061611             31103   \n12                 $22,316 -118.24255  34.044662             11772   \n13                 $40,641 -118.25193  34.042912              7005   \n14                 $43,890 -118.26516  34.038993             18986   \n15                 $48,715 -118.35255  34.029711             47596   \n\n    Median Age  Total Males  Total Females  Total Households  \\\n1         26.6        28468          28642             12971   \n2         25.5        24876          26347             11731   \n3         26.3        32631          33635             15642   \n4         34.8        31302          30878             22547   \n5         33.9        19299          18382             15044   \n6         32.4        30254          28931             18617   \n7         24.0        20915          20005             11944   \n8         39.7        14477          17850             13841   \n9         37.8         1874           1926              2014   \n10        26.2        52794          51098             22168   \n11        36.3        19493          11610             10327   \n12        44.6         7629           4143              6416   \n13        44.8         4471           2534              4109   \n14        31.3         9833           9153              7420   \n15        33.9        22778          24818             16145   \n\n    Average Household Size  \n1                     4.40  \n2                     4.36  \n3                     4.22  \n4                     2.73  \n5                     2.50  \n6                     3.13  \n7                     3.00  \n8                     2.33  \n9                     1.87  \n10                    4.67  \n11                    2.12  \n12                    1.26  \n13                    1.34  \n14                    2.45  \n15                    2.93  ",
      "text/html": "<div>\n<style scoped>\n    .dataframe tbody tr th:only-of-type {\n        vertical-align: middle;\n    }\n\n    .dataframe tbody tr th {\n        vertical-align: top;\n    }\n\n    .dataframe thead th {\n        text-align: right;\n    }\n</style>\n<table border=\"1\" class=\"dataframe\">\n  <thead>\n    <tr style=\"text-align: right;\">\n      <th></th>\n      <th>Zip Code</th>\n      <th>City</th>\n      <th>Community</th>\n      <th>Estimated Median Income</th>\n      <th>Longitude</th>\n      <th>Latitude</th>\n      <th>Total Population</th>\n      <th>Median Age</th>\n      <th>Total Males</th>\n      <th>Total Females</th>\n      <th>Total Households</th>\n      <th>Average Household Size</th>\n    </tr>\n  </thead>\n  <tbody>\n    <tr>\n      <th>1</th>\n      <td>90001</td>\n      <td>Los Angeles</td>\n      <td>Los Angeles (South Los Angeles), Florence-Graham</td>\n      <td>$43,360</td>\n      <td>-118.24878</td>\n      <td>33.972914</td>\n      <td>57110</td>\n      <td>26.6</td>\n      <td>28468</td>\n      <td>28642</td>\n      <td>12971</td>\n      <td>4.40</td>\n    </tr>\n    <tr>\n      <th>2</th>\n      <td>90002</td>\n      <td>Los Angeles</td>\n      <td>Los Angeles (Southeast Los Angeles, Watts)</td>\n      <td>$37,285</td>\n      <td>-118.24845</td>\n      <td>33.948315</td>\n      <td>51223</td>\n      <td>25.5</td>\n      <td>24876</td>\n      <td>26347</td>\n      <td>11731</td>\n      <td>4.36</td>\n    </tr>\n    <tr>\n      <th>3</th>\n      <td>90003</td>\n      <td>Los Angeles</td>\n      <td>Los Angeles (South Los Angeles, Southeast Los ...</td>\n      <td>$40,598</td>\n      <td>-118.27600</td>\n      <td>33.962714</td>\n      <td>66266</td>\n      <td>26.3</td>\n      <td>32631</td>\n      <td>33635</td>\n      <td>15642</td>\n      <td>4.22</td>\n    </tr>\n    <tr>\n      <th>4</th>\n      <td>90004</td>\n      <td>Los Angeles</td>\n      <td>Los Angeles (Hancock Park, Rampart Village, Vi...</td>\n      <td>$49,675</td>\n      <td>-118.30755</td>\n      <td>34.077110</td>\n      <td>62180</td>\n      <td>34.8</td>\n      <td>31302</td>\n      <td>30878</td>\n      <td>22547</td>\n      <td>2.73</td>\n    </tr>\n    <tr>\n      <th>5</th>\n      <td>90005</td>\n      <td>Los Angeles</td>\n      <td>Los Angeles (Hancock Park, Koreatown, Wilshire...</td>\n      <td>$38,491</td>\n      <td>-118.30848</td>\n      <td>34.058911</td>\n      <td>37681</td>\n      <td>33.9</td>\n      <td>19299</td>\n      <td>18382</td>\n      <td>15044</td>\n      <td>2.50</td>\n    </tr>\n    <tr>\n      <th>6</th>\n      <td>90006</td>\n      <td>Los Angeles</td>\n      <td>Los Angeles (Byzantine-Latino Quarter, Harvard...</td>\n      <td>$37,072</td>\n      <td>-118.29430</td>\n      <td>34.048351</td>\n      <td>59185</td>\n      <td>32.4</td>\n      <td>30254</td>\n      <td>28931</td>\n      <td>18617</td>\n      <td>3.13</td>\n    </tr>\n    <tr>\n      <th>7</th>\n      <td>90007</td>\n      <td>Los Angeles</td>\n      <td>Los Angeles (Southeast Los Angeles, Univerity ...</td>\n      <td>$27,406</td>\n      <td>-118.28290</td>\n      <td>34.026448</td>\n      <td>40920</td>\n      <td>24.0</td>\n      <td>20915</td>\n      <td>20005</td>\n      <td>11944</td>\n      <td>3.00</td>\n    </tr>\n    <tr>\n      <th>8</th>\n      <td>90008</td>\n      <td>Los Angeles</td>\n      <td>Los Angeles (Baldwin Hills, Crenshaw, Leimert ...</td>\n      <td>$43,364</td>\n      <td>-118.33705</td>\n      <td>34.009754</td>\n      <td>32327</td>\n      <td>39.7</td>\n      <td>14477</td>\n      <td>17850</td>\n      <td>13841</td>\n      <td>2.33</td>\n    </tr>\n    <tr>\n      <th>9</th>\n      <td>90010</td>\n      <td>Los Angeles</td>\n      <td>Los Angeles (Hancock Park, Wilshire Center, Wi...</td>\n      <td>$63,112</td>\n      <td>-118.31481</td>\n      <td>34.062709</td>\n      <td>3800</td>\n      <td>37.8</td>\n      <td>1874</td>\n      <td>1926</td>\n      <td>2014</td>\n      <td>1.87</td>\n    </tr>\n    <tr>\n      <th>10</th>\n      <td>90011</td>\n      <td>Los Angeles</td>\n      <td>Los Angeles (Southeast Los Angeles)</td>\n      <td>$40,940</td>\n      <td>-118.25868</td>\n      <td>34.007063</td>\n      <td>103892</td>\n      <td>26.2</td>\n      <td>52794</td>\n      <td>51098</td>\n      <td>22168</td>\n      <td>4.67</td>\n    </tr>\n    <tr>\n      <th>11</th>\n      <td>90012</td>\n      <td>Los Angeles</td>\n      <td>Los Angeles (Downtown Civic Center, Chinatown,...</td>\n      <td>$47,027</td>\n      <td>-118.23944</td>\n      <td>34.061611</td>\n      <td>31103</td>\n      <td>36.3</td>\n      <td>19493</td>\n      <td>11610</td>\n      <td>10327</td>\n      <td>2.12</td>\n    </tr>\n    <tr>\n      <th>12</th>\n      <td>90013</td>\n      <td>Los Angeles</td>\n      <td>Los Angeles (Downtown Central, Downtown Fashio...</td>\n      <td>$22,316</td>\n      <td>-118.24255</td>\n      <td>34.044662</td>\n      <td>11772</td>\n      <td>44.6</td>\n      <td>7629</td>\n      <td>4143</td>\n      <td>6416</td>\n      <td>1.26</td>\n    </tr>\n    <tr>\n      <th>13</th>\n      <td>90014</td>\n      <td>Los Angeles</td>\n      <td>Los Angeles (Downtown Historic Core, Arts Dist...</td>\n      <td>$40,641</td>\n      <td>-118.25193</td>\n      <td>34.042912</td>\n      <td>7005</td>\n      <td>44.8</td>\n      <td>4471</td>\n      <td>2534</td>\n      <td>4109</td>\n      <td>1.34</td>\n    </tr>\n    <tr>\n      <th>14</th>\n      <td>90015</td>\n      <td>Los Angeles</td>\n      <td>Los Angeles (Dowtown Fashion District, South P...</td>\n      <td>$43,890</td>\n      <td>-118.26516</td>\n      <td>34.038993</td>\n      <td>18986</td>\n      <td>31.3</td>\n      <td>9833</td>\n      <td>9153</td>\n      <td>7420</td>\n      <td>2.45</td>\n    </tr>\n    <tr>\n      <th>15</th>\n      <td>90016</td>\n      <td>Los Angeles</td>\n      <td>Los Angeles (West Adams)</td>\n      <td>$48,715</td>\n      <td>-118.35255</td>\n      <td>34.029711</td>\n      <td>47596</td>\n      <td>33.9</td>\n      <td>22778</td>\n      <td>24818</td>\n      <td>16145</td>\n      <td>2.93</td>\n    </tr>\n  </tbody>\n</table>\n</div>"
     },
     "execution_count": 22,
     "metadata": {},
     "output_type": "execute_result"
    }
   ],
   "source": [
    "prepared_ds = dataset_geo[[\n",
    "  \"Zip Code\", \"City\", \"Community\", \"Estimated Median Income\",\n",
    "  \"Longitude\", \"Latitude\", \"Total Population\", \"Median Age\",\n",
    "  \"Total Males\", \"Total Females\", \"Total Households\",\n",
    "  \"Average Household Size\"]]\n",
    "prepared_ds.head(15)"
   ],
   "metadata": {
    "collapsed": false,
    "pycharm": {
     "name": "#%%\n"
    }
   }
  },
  {
   "cell_type": "code",
   "execution_count": 24,
   "outputs": [],
   "source": [
    "import foursquare\n",
    "import requests\n",
    "CLIENT_ID = foursquare.CLIENT_ID\n",
    "CLIENT_SECRET = foursquare.CLIENT_SECRET\n",
    "VERSION = '20180605' # Foursquare API version\n",
    "LIMIT = 100 # A default Foursquare API limit value"
   ],
   "metadata": {
    "collapsed": false,
    "pycharm": {
     "name": "#%%\n"
    }
   }
  },
  {
   "cell_type": "code",
   "execution_count": 31,
   "outputs": [],
   "source": [
    "record = prepared_ds.iloc[0]"
   ],
   "metadata": {
    "collapsed": false,
    "pycharm": {
     "name": "#%%\n"
    }
   }
  },
  {
   "cell_type": "code",
   "execution_count": 73,
   "outputs": [
    {
     "name": "stdout",
     "output_type": "stream",
     "text": [
      "https://api.foursquare.com/v2/venues/search?&client_id=R5KIOQJIXBTMSGBL0D3T3UCTJSMHLM5JWK15ZXEVRABUHMT1&client_secret=V0PEZI5UQCNYEZH4COTUAWSR3JF0VYCQIEAUEIGQTKO4IBSX&v=20180605&ll=33.972914,-118.24878&radius=1200&limit=100&categoryId=4d4b7105d754a06374d81259\n"
     ]
    },
    {
     "data": {
      "text/plain": "    Zip Code                                         Community  \\\n0      90001  Los Angeles (South Los Angeles), Florence-Graham   \n1      90001  Los Angeles (South Los Angeles), Florence-Graham   \n2      90001  Los Angeles (South Los Angeles), Florence-Graham   \n3      90001  Los Angeles (South Los Angeles), Florence-Graham   \n4      90001  Los Angeles (South Los Angeles), Florence-Graham   \n5      90001  Los Angeles (South Los Angeles), Florence-Graham   \n6      90001  Los Angeles (South Los Angeles), Florence-Graham   \n7      90001  Los Angeles (South Los Angeles), Florence-Graham   \n8      90001  Los Angeles (South Los Angeles), Florence-Graham   \n9      90001  Los Angeles (South Los Angeles), Florence-Graham   \n10     90001  Los Angeles (South Los Angeles), Florence-Graham   \n11     90001  Los Angeles (South Los Angeles), Florence-Graham   \n12     90001  Los Angeles (South Los Angeles), Florence-Graham   \n13     90001  Los Angeles (South Los Angeles), Florence-Graham   \n14     90001  Los Angeles (South Los Angeles), Florence-Graham   \n15     90001  Los Angeles (South Los Angeles), Florence-Graham   \n16     90001  Los Angeles (South Los Angeles), Florence-Graham   \n17     90001  Los Angeles (South Los Angeles), Florence-Graham   \n18     90001  Los Angeles (South Los Angeles), Florence-Graham   \n19     90001  Los Angeles (South Los Angeles), Florence-Graham   \n20     90001  Los Angeles (South Los Angeles), Florence-Graham   \n21     90001  Los Angeles (South Los Angeles), Florence-Graham   \n22     90001  Los Angeles (South Los Angeles), Florence-Graham   \n23     90001  Los Angeles (South Los Angeles), Florence-Graham   \n24     90001  Los Angeles (South Los Angeles), Florence-Graham   \n25     90001  Los Angeles (South Los Angeles), Florence-Graham   \n26     90001  Los Angeles (South Los Angeles), Florence-Graham   \n27     90001  Los Angeles (South Los Angeles), Florence-Graham   \n28     90001  Los Angeles (South Los Angeles), Florence-Graham   \n\n    Zip Code Latitude  Zip Code Longitude                      Venue  \\\n0           33.972914          -118.24878                Emy Burgers   \n1           33.972914          -118.24878            Pancho's Bakery   \n2           33.972914          -118.24878            Jack in the Box   \n3           33.972914          -118.24878                 Carl's Jr.   \n4           33.972914          -118.24878                Burger King   \n5           33.972914          -118.24878                  Starbucks   \n6           33.972914          -118.24878              Taqueria Rosy   \n7           33.972914          -118.24878              La Pizza Loca   \n8           33.972914          -118.24878             Andy's burgers   \n9           33.972914          -118.24878       All Star Fish Market   \n10          33.972914          -118.24878       La Casa De La Birria   \n11          33.972914          -118.24878                  Juice Bar   \n12          33.972914          -118.24878           Tacos La Pely #2   \n13          33.972914          -118.24878           Carnitas Ebenzer   \n14          33.972914          -118.24878   Tacos De Birria El Guero   \n15          33.972914          -118.24878                Hola Donuts   \n16          33.972914          -118.24878                O.K. Donuts   \n17          33.972914          -118.24878              El Senor Taco   \n18          33.972914          -118.24878             Rogers Poultry   \n19          33.972914          -118.24878      Pupuseria Las Champas   \n20          33.972914          -118.24878               Tam's Burger   \n21          33.972914          -118.24878             Tacos El Unico   \n22          33.972914          -118.24878            Nay's Tacos Inc   \n23          33.972914          -118.24878           mi tierra bakery   \n24          33.972914          -118.24878                Happy Donut   \n25          33.972914          -118.24878  Mi Lindo Nayarit Mariscos   \n26          33.972914          -118.24878                  Menchie's   \n27          33.972914          -118.24878           Mi Lindo Nayarit   \n28          33.972914          -118.24878     WINCHELL'S DONUT HOUSE   \n\n          Venue Category  \n0                   Food  \n1                 Bakery  \n2   Fast Food Restaurant  \n3   Fast Food Restaurant  \n4   Fast Food Restaurant  \n5            Coffee Shop  \n6     Mexican Restaurant  \n7            Pizza Place  \n8           Burger Joint  \n9    American Restaurant  \n10    Mexican Restaurant  \n11        Ice Cream Shop  \n12            Taco Place  \n13            Food Truck  \n14    Mexican Restaurant  \n15                Bakery  \n16            Donut Shop  \n17    Mexican Restaurant  \n18   Fried Chicken Joint  \n19    Seafood Restaurant  \n20          Burger Joint  \n21    Mexican Restaurant  \n22            Food Truck  \n23                Bakery  \n24            Donut Shop  \n25    Mexican Restaurant  \n26    Frozen Yogurt Shop  \n27    Seafood Restaurant  \n28            Donut Shop  ",
      "text/html": "<div>\n<style scoped>\n    .dataframe tbody tr th:only-of-type {\n        vertical-align: middle;\n    }\n\n    .dataframe tbody tr th {\n        vertical-align: top;\n    }\n\n    .dataframe thead th {\n        text-align: right;\n    }\n</style>\n<table border=\"1\" class=\"dataframe\">\n  <thead>\n    <tr style=\"text-align: right;\">\n      <th></th>\n      <th>Zip Code</th>\n      <th>Community</th>\n      <th>Zip Code Latitude</th>\n      <th>Zip Code Longitude</th>\n      <th>Venue</th>\n      <th>Venue Category</th>\n    </tr>\n  </thead>\n  <tbody>\n    <tr>\n      <th>0</th>\n      <td>90001</td>\n      <td>Los Angeles (South Los Angeles), Florence-Graham</td>\n      <td>33.972914</td>\n      <td>-118.24878</td>\n      <td>Emy Burgers</td>\n      <td>Food</td>\n    </tr>\n    <tr>\n      <th>1</th>\n      <td>90001</td>\n      <td>Los Angeles (South Los Angeles), Florence-Graham</td>\n      <td>33.972914</td>\n      <td>-118.24878</td>\n      <td>Pancho's Bakery</td>\n      <td>Bakery</td>\n    </tr>\n    <tr>\n      <th>2</th>\n      <td>90001</td>\n      <td>Los Angeles (South Los Angeles), Florence-Graham</td>\n      <td>33.972914</td>\n      <td>-118.24878</td>\n      <td>Jack in the Box</td>\n      <td>Fast Food Restaurant</td>\n    </tr>\n    <tr>\n      <th>3</th>\n      <td>90001</td>\n      <td>Los Angeles (South Los Angeles), Florence-Graham</td>\n      <td>33.972914</td>\n      <td>-118.24878</td>\n      <td>Carl's Jr.</td>\n      <td>Fast Food Restaurant</td>\n    </tr>\n    <tr>\n      <th>4</th>\n      <td>90001</td>\n      <td>Los Angeles (South Los Angeles), Florence-Graham</td>\n      <td>33.972914</td>\n      <td>-118.24878</td>\n      <td>Burger King</td>\n      <td>Fast Food Restaurant</td>\n    </tr>\n    <tr>\n      <th>5</th>\n      <td>90001</td>\n      <td>Los Angeles (South Los Angeles), Florence-Graham</td>\n      <td>33.972914</td>\n      <td>-118.24878</td>\n      <td>Starbucks</td>\n      <td>Coffee Shop</td>\n    </tr>\n    <tr>\n      <th>6</th>\n      <td>90001</td>\n      <td>Los Angeles (South Los Angeles), Florence-Graham</td>\n      <td>33.972914</td>\n      <td>-118.24878</td>\n      <td>Taqueria Rosy</td>\n      <td>Mexican Restaurant</td>\n    </tr>\n    <tr>\n      <th>7</th>\n      <td>90001</td>\n      <td>Los Angeles (South Los Angeles), Florence-Graham</td>\n      <td>33.972914</td>\n      <td>-118.24878</td>\n      <td>La Pizza Loca</td>\n      <td>Pizza Place</td>\n    </tr>\n    <tr>\n      <th>8</th>\n      <td>90001</td>\n      <td>Los Angeles (South Los Angeles), Florence-Graham</td>\n      <td>33.972914</td>\n      <td>-118.24878</td>\n      <td>Andy's burgers</td>\n      <td>Burger Joint</td>\n    </tr>\n    <tr>\n      <th>9</th>\n      <td>90001</td>\n      <td>Los Angeles (South Los Angeles), Florence-Graham</td>\n      <td>33.972914</td>\n      <td>-118.24878</td>\n      <td>All Star Fish Market</td>\n      <td>American Restaurant</td>\n    </tr>\n    <tr>\n      <th>10</th>\n      <td>90001</td>\n      <td>Los Angeles (South Los Angeles), Florence-Graham</td>\n      <td>33.972914</td>\n      <td>-118.24878</td>\n      <td>La Casa De La Birria</td>\n      <td>Mexican Restaurant</td>\n    </tr>\n    <tr>\n      <th>11</th>\n      <td>90001</td>\n      <td>Los Angeles (South Los Angeles), Florence-Graham</td>\n      <td>33.972914</td>\n      <td>-118.24878</td>\n      <td>Juice Bar</td>\n      <td>Ice Cream Shop</td>\n    </tr>\n    <tr>\n      <th>12</th>\n      <td>90001</td>\n      <td>Los Angeles (South Los Angeles), Florence-Graham</td>\n      <td>33.972914</td>\n      <td>-118.24878</td>\n      <td>Tacos La Pely #2</td>\n      <td>Taco Place</td>\n    </tr>\n    <tr>\n      <th>13</th>\n      <td>90001</td>\n      <td>Los Angeles (South Los Angeles), Florence-Graham</td>\n      <td>33.972914</td>\n      <td>-118.24878</td>\n      <td>Carnitas Ebenzer</td>\n      <td>Food Truck</td>\n    </tr>\n    <tr>\n      <th>14</th>\n      <td>90001</td>\n      <td>Los Angeles (South Los Angeles), Florence-Graham</td>\n      <td>33.972914</td>\n      <td>-118.24878</td>\n      <td>Tacos De Birria El Guero</td>\n      <td>Mexican Restaurant</td>\n    </tr>\n    <tr>\n      <th>15</th>\n      <td>90001</td>\n      <td>Los Angeles (South Los Angeles), Florence-Graham</td>\n      <td>33.972914</td>\n      <td>-118.24878</td>\n      <td>Hola Donuts</td>\n      <td>Bakery</td>\n    </tr>\n    <tr>\n      <th>16</th>\n      <td>90001</td>\n      <td>Los Angeles (South Los Angeles), Florence-Graham</td>\n      <td>33.972914</td>\n      <td>-118.24878</td>\n      <td>O.K. Donuts</td>\n      <td>Donut Shop</td>\n    </tr>\n    <tr>\n      <th>17</th>\n      <td>90001</td>\n      <td>Los Angeles (South Los Angeles), Florence-Graham</td>\n      <td>33.972914</td>\n      <td>-118.24878</td>\n      <td>El Senor Taco</td>\n      <td>Mexican Restaurant</td>\n    </tr>\n    <tr>\n      <th>18</th>\n      <td>90001</td>\n      <td>Los Angeles (South Los Angeles), Florence-Graham</td>\n      <td>33.972914</td>\n      <td>-118.24878</td>\n      <td>Rogers Poultry</td>\n      <td>Fried Chicken Joint</td>\n    </tr>\n    <tr>\n      <th>19</th>\n      <td>90001</td>\n      <td>Los Angeles (South Los Angeles), Florence-Graham</td>\n      <td>33.972914</td>\n      <td>-118.24878</td>\n      <td>Pupuseria Las Champas</td>\n      <td>Seafood Restaurant</td>\n    </tr>\n    <tr>\n      <th>20</th>\n      <td>90001</td>\n      <td>Los Angeles (South Los Angeles), Florence-Graham</td>\n      <td>33.972914</td>\n      <td>-118.24878</td>\n      <td>Tam's Burger</td>\n      <td>Burger Joint</td>\n    </tr>\n    <tr>\n      <th>21</th>\n      <td>90001</td>\n      <td>Los Angeles (South Los Angeles), Florence-Graham</td>\n      <td>33.972914</td>\n      <td>-118.24878</td>\n      <td>Tacos El Unico</td>\n      <td>Mexican Restaurant</td>\n    </tr>\n    <tr>\n      <th>22</th>\n      <td>90001</td>\n      <td>Los Angeles (South Los Angeles), Florence-Graham</td>\n      <td>33.972914</td>\n      <td>-118.24878</td>\n      <td>Nay's Tacos Inc</td>\n      <td>Food Truck</td>\n    </tr>\n    <tr>\n      <th>23</th>\n      <td>90001</td>\n      <td>Los Angeles (South Los Angeles), Florence-Graham</td>\n      <td>33.972914</td>\n      <td>-118.24878</td>\n      <td>mi tierra bakery</td>\n      <td>Bakery</td>\n    </tr>\n    <tr>\n      <th>24</th>\n      <td>90001</td>\n      <td>Los Angeles (South Los Angeles), Florence-Graham</td>\n      <td>33.972914</td>\n      <td>-118.24878</td>\n      <td>Happy Donut</td>\n      <td>Donut Shop</td>\n    </tr>\n    <tr>\n      <th>25</th>\n      <td>90001</td>\n      <td>Los Angeles (South Los Angeles), Florence-Graham</td>\n      <td>33.972914</td>\n      <td>-118.24878</td>\n      <td>Mi Lindo Nayarit Mariscos</td>\n      <td>Mexican Restaurant</td>\n    </tr>\n    <tr>\n      <th>26</th>\n      <td>90001</td>\n      <td>Los Angeles (South Los Angeles), Florence-Graham</td>\n      <td>33.972914</td>\n      <td>-118.24878</td>\n      <td>Menchie's</td>\n      <td>Frozen Yogurt Shop</td>\n    </tr>\n    <tr>\n      <th>27</th>\n      <td>90001</td>\n      <td>Los Angeles (South Los Angeles), Florence-Graham</td>\n      <td>33.972914</td>\n      <td>-118.24878</td>\n      <td>Mi Lindo Nayarit</td>\n      <td>Seafood Restaurant</td>\n    </tr>\n    <tr>\n      <th>28</th>\n      <td>90001</td>\n      <td>Los Angeles (South Los Angeles), Florence-Graham</td>\n      <td>33.972914</td>\n      <td>-118.24878</td>\n      <td>WINCHELL'S DONUT HOUSE</td>\n      <td>Donut Shop</td>\n    </tr>\n  </tbody>\n</table>\n</div>"
     },
     "execution_count": 73,
     "metadata": {},
     "output_type": "execute_result"
    }
   ],
   "source": [
    "# create the API request URL\n",
    "url = 'https://api.foursquare' \\\n",
    "      '.com/v2/venues/search?&client_id={}&client_secret={}&v={}&ll={},' \\\n",
    "      '{}&radius={}&limit={}&categoryId={}'.format(\n",
    "    CLIENT_ID,\n",
    "    CLIENT_SECRET,\n",
    "    VERSION,\n",
    "    record['Latitude'],\n",
    "    record['Longitude'],\n",
    "    1200,\n",
    "    LIMIT,\n",
    "    '4d4b7105d754a06374d81259')\n",
    "\n",
    "print(url)\n",
    "\n",
    "# make the GET request\n",
    "results = requests.get(url).json()[\"response\"]['venues']\n",
    "\n",
    "venues_list=[]\n",
    "\n",
    "\n",
    "venues_list.append([(\n",
    "            record['Zip Code'],\n",
    "            record['Community'],\n",
    "            record['Latitude'],\n",
    "            record['Longitude'],\n",
    "            v['name'],\n",
    "            # v['venue']['location']['lat'],\n",
    "            # v['venue']['location']['lng'],\n",
    "            v['categories'][0]['name']) for v in results])\n",
    "\n",
    "nearby_venues = pd.DataFrame([item for venue_list in venues_list for item in venue_list])\n",
    "nearby_venues.columns = ['Zip Code',\n",
    "                         'Community',\n",
    "              'Zip Code Latitude',\n",
    "              'Zip Code Longitude',\n",
    "              'Venue',\n",
    "              # 'Venue Latitude',\n",
    "              # 'Venue Longitude',\n",
    "              'Venue Category']\n",
    "nearby_venues"
   ],
   "metadata": {
    "collapsed": false,
    "pycharm": {
     "name": "#%%\n"
    }
   }
  },
  {
   "cell_type": "code",
   "execution_count": 74,
   "outputs": [
    {
     "data": {
      "text/plain": "(29, 6)"
     },
     "execution_count": 74,
     "metadata": {},
     "output_type": "execute_result"
    }
   ],
   "source": [
    "nearby_venues.shape"
   ],
   "metadata": {
    "collapsed": false,
    "pycharm": {
     "name": "#%%\n"
    }
   }
  },
  {
   "cell_type": "code",
   "execution_count": 75,
   "outputs": [],
   "source": [
    "# url = 'https://api.foursquare' \\\n",
    "#       '.com/v2/venues/explore?&client_id={}&client_secret={}&v={}&ll={},' \\\n",
    "#       '{}&radius={}&limit={}&categoryId={}'.format(\n",
    "#     CLIENT_ID,\n",
    "#     CLIENT_SECRET,\n",
    "#     VERSION,\n",
    "#     record['Latitude'],\n",
    "#     record['Longitude'],\n",
    "#     1200,\n",
    "#     LIMIT,\n",
    "#     '4d4b7105d754a06374d81259')\n",
    "#\n",
    "# print(url)\n",
    "#\n",
    "# # make the GET request\n",
    "# results2 = requests.get(url).json()[\"response\"]['groups'][0]['items']['venue']\n",
    "#\n",
    "# venues_list=[]\n",
    "#\n",
    "# venues_list=[]\n",
    "#\n",
    "# for v in results:\n",
    "#   try:\n",
    "#     rating = v['venue']['rating']\n",
    "#   except:\n",
    "#     rating = 'Not rated',\n",
    "#\n",
    "#     venues_list.append([(\n",
    "#         record['Zip Code'],\n",
    "#         record['Community'],\n",
    "#         record['Latitude'],\n",
    "#         record['Longitude'],\n",
    "#         v['venue']['name'],\n",
    "#         # v['venue']['location']['lat'],\n",
    "#         # v['venue']['location']['lng'],\n",
    "#         v['venue']['categories'][0]['name'],\n",
    "#         rating\n",
    "#     ) ])\n",
    "#\n",
    "# venues_list\n",
    "# nearby_venues = pd.DataFrame([item for venue_list in venues_list for item in venue_list])\n",
    "# nearby_venues.columns = ['Zip Code',\n",
    "#                          'Community',\n",
    "#               'Zip Code Latitude',\n",
    "#               'Zip Code Longitude',\n",
    "#               'Venue',\n",
    "#               # 'Venue Latitude',\n",
    "#               # 'Venue Longitude',\n",
    "#               'Venue Category',\n",
    "#               'Rating']\n",
    "# nearby_venues"
   ],
   "metadata": {
    "collapsed": false,
    "pycharm": {
     "name": "#%%\n"
    }
   }
  },
  {
   "cell_type": "code",
   "execution_count": 113,
   "outputs": [
    {
     "data": {
      "text/plain": "                     Zip Code      \n                         mean count\nVenue Category                     \nMexican Restaurant      90001     6\nBakery                  90001     3\nDonut Shop              90001     3\nFast Food Restaurant    90001     3\nBurger Joint            90001     2\nFood Truck              90001     2\nSeafood Restaurant      90001     2\nAmerican Restaurant     90001     1\nCoffee Shop             90001     1\nFood                    90001     1\nFried Chicken Joint     90001     1\nFrozen Yogurt Shop      90001     1\nIce Cream Shop          90001     1\nPizza Place             90001     1\nTaco Place              90001     1",
      "text/html": "<div>\n<style scoped>\n    .dataframe tbody tr th:only-of-type {\n        vertical-align: middle;\n    }\n\n    .dataframe tbody tr th {\n        vertical-align: top;\n    }\n\n    .dataframe thead tr th {\n        text-align: left;\n    }\n\n    .dataframe thead tr:last-of-type th {\n        text-align: right;\n    }\n</style>\n<table border=\"1\" class=\"dataframe\">\n  <thead>\n    <tr>\n      <th></th>\n      <th colspan=\"2\" halign=\"left\">Zip Code</th>\n    </tr>\n    <tr>\n      <th></th>\n      <th>mean</th>\n      <th>count</th>\n    </tr>\n    <tr>\n      <th>Venue Category</th>\n      <th></th>\n      <th></th>\n    </tr>\n  </thead>\n  <tbody>\n    <tr>\n      <th>Mexican Restaurant</th>\n      <td>90001</td>\n      <td>6</td>\n    </tr>\n    <tr>\n      <th>Bakery</th>\n      <td>90001</td>\n      <td>3</td>\n    </tr>\n    <tr>\n      <th>Donut Shop</th>\n      <td>90001</td>\n      <td>3</td>\n    </tr>\n    <tr>\n      <th>Fast Food Restaurant</th>\n      <td>90001</td>\n      <td>3</td>\n    </tr>\n    <tr>\n      <th>Burger Joint</th>\n      <td>90001</td>\n      <td>2</td>\n    </tr>\n    <tr>\n      <th>Food Truck</th>\n      <td>90001</td>\n      <td>2</td>\n    </tr>\n    <tr>\n      <th>Seafood Restaurant</th>\n      <td>90001</td>\n      <td>2</td>\n    </tr>\n    <tr>\n      <th>American Restaurant</th>\n      <td>90001</td>\n      <td>1</td>\n    </tr>\n    <tr>\n      <th>Coffee Shop</th>\n      <td>90001</td>\n      <td>1</td>\n    </tr>\n    <tr>\n      <th>Food</th>\n      <td>90001</td>\n      <td>1</td>\n    </tr>\n    <tr>\n      <th>Fried Chicken Joint</th>\n      <td>90001</td>\n      <td>1</td>\n    </tr>\n    <tr>\n      <th>Frozen Yogurt Shop</th>\n      <td>90001</td>\n      <td>1</td>\n    </tr>\n    <tr>\n      <th>Ice Cream Shop</th>\n      <td>90001</td>\n      <td>1</td>\n    </tr>\n    <tr>\n      <th>Pizza Place</th>\n      <td>90001</td>\n      <td>1</td>\n    </tr>\n    <tr>\n      <th>Taco Place</th>\n      <td>90001</td>\n      <td>1</td>\n    </tr>\n  </tbody>\n</table>\n</div>"
     },
     "execution_count": 113,
     "metadata": {},
     "output_type": "execute_result"
    }
   ],
   "source": [
    "df = nearby_venues[['Venue Category', 'Zip Code']]\n",
    "df_grouped = df.groupby('Venue Category').agg(['mean', 'count'])\n",
    "df_sorted = df_grouped.sort_values(by=[('Zip Code','count')], ascending=False)\n",
    "#df_grouped.sort_values(by='count')\n",
    "df_sorted\n",
    "#df.groupby('Venue Category').agg(['mean', 'count'])\n",
    "#df"
   ],
   "metadata": {
    "collapsed": false,
    "pycharm": {
     "name": "#%%\n"
    }
   }
  },
  {
   "cell_type": "code",
   "execution_count": null,
   "outputs": [],
   "source": [],
   "metadata": {
    "collapsed": false,
    "pycharm": {
     "name": "#%%\n"
    }
   }
  }
 ],
 "metadata": {
  "kernelspec": {
   "display_name": "Python 3",
   "language": "python",
   "name": "python3"
  },
  "language_info": {
   "codemirror_mode": {
    "name": "ipython",
    "version": 2
   },
   "file_extension": ".py",
   "mimetype": "text/x-python",
   "name": "python",
   "nbconvert_exporter": "python",
   "pygments_lexer": "ipython2",
   "version": "2.7.6"
  }
 },
 "nbformat": 4,
 "nbformat_minor": 0
}