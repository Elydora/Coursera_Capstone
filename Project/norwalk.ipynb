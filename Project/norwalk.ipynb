{
 "cells": [
  {
   "cell_type": "code",
   "execution_count": 1,
   "metadata": {
    "collapsed": true
   },
   "outputs": [],
   "source": [
    "import foursquare\n",
    "import pandas as pd\n",
    "import requests\n",
    "CLIENT_ID = foursquare.CLIENT_ID\n",
    "CLIENT_SECRET = foursquare.CLIENT_SECRET\n",
    "ACCESS_TOKEN = foursquare.ACCESS_TOKEN\n",
    "VERSION = '20210501' # Foursquare API version\n",
    "LIMIT = 100 # A default Four"
   ]
  },
  {
   "cell_type": "code",
   "execution_count": 2,
   "outputs": [],
   "source": [
    "cluster4 = pd.read_csv('cluster4.csv', index_col=0)\n",
    "cluster4.reset_index(drop = True, inplace=True)\n",
    "record = cluster4.iloc[10]"
   ],
   "metadata": {
    "collapsed": false,
    "pycharm": {
     "name": "#%%\n"
    }
   }
  },
  {
   "cell_type": "code",
   "execution_count": 3,
   "outputs": [
    {
     "data": {
      "text/plain": "    Zip Code Community  Zip Code Latitude  Zip Code Longitude  \\\n0      90650   Norwalk          33.906914          -118.08339   \n1      90650   Norwalk          33.906914          -118.08339   \n2      90650   Norwalk          33.906914          -118.08339   \n3      90650   Norwalk          33.906914          -118.08339   \n4      90650   Norwalk          33.906914          -118.08339   \n..       ...       ...                ...                 ...   \n95     90650   Norwalk          33.906914          -118.08339   \n96     90650   Norwalk          33.906914          -118.08339   \n97     90650   Norwalk          33.906914          -118.08339   \n98     90650   Norwalk          33.906914          -118.08339   \n99     90650   Norwalk          33.906914          -118.08339   \n\n                                            Venue         Venue Category  \\\n0                                 In-N-Out Burger   Fast Food Restaurant   \n1                     Douglas Charbroiled Burgers    American Restaurant   \n2   Los Compadres Mexican Restaurant & Sports Bar     Mexican Restaurant   \n3                            Noemi's Mexican Food     Mexican Restaurant   \n4                                Tacos Los Gueros     Mexican Restaurant   \n..                                            ...                    ...   \n95                                  La Pizza Loca            Pizza Place   \n96                                Jack in the Box   Fast Food Restaurant   \n97                                         SUBWAY         Sandwich Place   \n98                              Pizza Hut Express            Pizza Place   \n99                                 Pho Ten 2 Nine  Vietnamese Restaurant   \n\n          Rating  \n0   (Not rated,)  \n1   (Not rated,)  \n2   (Not rated,)  \n3   (Not rated,)  \n4   (Not rated,)  \n..           ...  \n95  (Not rated,)  \n96  (Not rated,)  \n97  (Not rated,)  \n98  (Not rated,)  \n99  (Not rated,)  \n\n[100 rows x 7 columns]",
      "text/html": "<div>\n<style scoped>\n    .dataframe tbody tr th:only-of-type {\n        vertical-align: middle;\n    }\n\n    .dataframe tbody tr th {\n        vertical-align: top;\n    }\n\n    .dataframe thead th {\n        text-align: right;\n    }\n</style>\n<table border=\"1\" class=\"dataframe\">\n  <thead>\n    <tr style=\"text-align: right;\">\n      <th></th>\n      <th>Zip Code</th>\n      <th>Community</th>\n      <th>Zip Code Latitude</th>\n      <th>Zip Code Longitude</th>\n      <th>Venue</th>\n      <th>Venue Category</th>\n      <th>Rating</th>\n    </tr>\n  </thead>\n  <tbody>\n    <tr>\n      <th>0</th>\n      <td>90650</td>\n      <td>Norwalk</td>\n      <td>33.906914</td>\n      <td>-118.08339</td>\n      <td>In-N-Out Burger</td>\n      <td>Fast Food Restaurant</td>\n      <td>(Not rated,)</td>\n    </tr>\n    <tr>\n      <th>1</th>\n      <td>90650</td>\n      <td>Norwalk</td>\n      <td>33.906914</td>\n      <td>-118.08339</td>\n      <td>Douglas Charbroiled Burgers</td>\n      <td>American Restaurant</td>\n      <td>(Not rated,)</td>\n    </tr>\n    <tr>\n      <th>2</th>\n      <td>90650</td>\n      <td>Norwalk</td>\n      <td>33.906914</td>\n      <td>-118.08339</td>\n      <td>Los Compadres Mexican Restaurant &amp; Sports Bar</td>\n      <td>Mexican Restaurant</td>\n      <td>(Not rated,)</td>\n    </tr>\n    <tr>\n      <th>3</th>\n      <td>90650</td>\n      <td>Norwalk</td>\n      <td>33.906914</td>\n      <td>-118.08339</td>\n      <td>Noemi's Mexican Food</td>\n      <td>Mexican Restaurant</td>\n      <td>(Not rated,)</td>\n    </tr>\n    <tr>\n      <th>4</th>\n      <td>90650</td>\n      <td>Norwalk</td>\n      <td>33.906914</td>\n      <td>-118.08339</td>\n      <td>Tacos Los Gueros</td>\n      <td>Mexican Restaurant</td>\n      <td>(Not rated,)</td>\n    </tr>\n    <tr>\n      <th>...</th>\n      <td>...</td>\n      <td>...</td>\n      <td>...</td>\n      <td>...</td>\n      <td>...</td>\n      <td>...</td>\n      <td>...</td>\n    </tr>\n    <tr>\n      <th>95</th>\n      <td>90650</td>\n      <td>Norwalk</td>\n      <td>33.906914</td>\n      <td>-118.08339</td>\n      <td>La Pizza Loca</td>\n      <td>Pizza Place</td>\n      <td>(Not rated,)</td>\n    </tr>\n    <tr>\n      <th>96</th>\n      <td>90650</td>\n      <td>Norwalk</td>\n      <td>33.906914</td>\n      <td>-118.08339</td>\n      <td>Jack in the Box</td>\n      <td>Fast Food Restaurant</td>\n      <td>(Not rated,)</td>\n    </tr>\n    <tr>\n      <th>97</th>\n      <td>90650</td>\n      <td>Norwalk</td>\n      <td>33.906914</td>\n      <td>-118.08339</td>\n      <td>SUBWAY</td>\n      <td>Sandwich Place</td>\n      <td>(Not rated,)</td>\n    </tr>\n    <tr>\n      <th>98</th>\n      <td>90650</td>\n      <td>Norwalk</td>\n      <td>33.906914</td>\n      <td>-118.08339</td>\n      <td>Pizza Hut Express</td>\n      <td>Pizza Place</td>\n      <td>(Not rated,)</td>\n    </tr>\n    <tr>\n      <th>99</th>\n      <td>90650</td>\n      <td>Norwalk</td>\n      <td>33.906914</td>\n      <td>-118.08339</td>\n      <td>Pho Ten 2 Nine</td>\n      <td>Vietnamese Restaurant</td>\n      <td>(Not rated,)</td>\n    </tr>\n  </tbody>\n</table>\n<p>100 rows × 7 columns</p>\n</div>"
     },
     "execution_count": 3,
     "metadata": {},
     "output_type": "execute_result"
    }
   ],
   "source": [
    "url = 'https://api.foursquare' \\\n",
    "      '.com/v2/venues/explore?client_id={}&client_secret={}&ll={},' \\\n",
    "      '{}&oauth_token={}&v={}&radius={}&limit={}&categoryId={}'.format(\n",
    "    CLIENT_ID, CLIENT_SECRET, record['Latitude'], record['Longitude'],\n",
    "    ACCESS_TOKEN, VERSION, 2300, LIMIT, '4d4b7105d754a06374d81259')\n",
    "\n",
    "# make the GET request\n",
    "results = requests.get(url).json()[\"response\"]['groups'][0]['items']\n",
    "venues_list=[]\n",
    "\n",
    "for v in results:\n",
    "  try:\n",
    "    rating = v['venue']['rating']\n",
    "  except:\n",
    "    rating = 'Not rated',\n",
    "\n",
    "    venues_list.append([(\n",
    "        record['Zip Code'],\n",
    "        record['Community'],\n",
    "        record['Latitude'],\n",
    "        record['Longitude'],\n",
    "        v['venue']['name'],\n",
    "        # v['venue']['location']['lat'],\n",
    "        # v['venue']['location']['lng'],\n",
    "        v['venue']['categories'][0]['name'],\n",
    "        rating\n",
    "    ) ])\n",
    "\n",
    "    venues_list\n",
    "    nearby_venues = pd.DataFrame([item for venue_list in venues_list for item in venue_list])\n",
    "    nearby_venues.columns = ['Zip Code',\n",
    "                             'Community',\n",
    "                  'Zip Code Latitude',\n",
    "                  'Zip Code Longitude',\n",
    "                  'Venue',\n",
    "                  # 'Venue Latitude',\n",
    "                  # 'Venue Longitude',\n",
    "                  'Venue Category',\n",
    "                  'Rating']\n",
    "nearby_venues"
   ],
   "metadata": {
    "collapsed": false,
    "pycharm": {
     "name": "#%%\n"
    }
   }
  },
  {
   "cell_type": "code",
   "execution_count": 4,
   "outputs": [
    {
     "ename": "NameError",
     "evalue": "name 'nearby_venues' is not defined",
     "output_type": "error",
     "traceback": [
      "\u001B[0;31m---------------------------------------------------------------------------\u001B[0m",
      "\u001B[0;31mNameError\u001B[0m                                 Traceback (most recent call last)",
      "\u001B[0;32m<ipython-input-4-8efd82c9a0c8>\u001B[0m in \u001B[0;36m<module>\u001B[0;34m\u001B[0m\n\u001B[0;32m----> 1\u001B[0;31m \u001B[0mnearby_venues\u001B[0m\u001B[0;34m\u001B[0m\u001B[0;34m\u001B[0m\u001B[0m\n\u001B[0m\u001B[1;32m      2\u001B[0m \u001B[0;34m\u001B[0m\u001B[0m\n",
      "\u001B[0;31mNameError\u001B[0m: name 'nearby_venues' is not defined"
     ]
    }
   ],
   "source": [
    "nearby_venues\n"
   ],
   "metadata": {
    "collapsed": false,
    "pycharm": {
     "name": "#%%\n"
    }
   }
  },
  {
   "cell_type": "code",
   "execution_count": null,
   "outputs": [],
   "source": [],
   "metadata": {
    "collapsed": false,
    "pycharm": {
     "name": "#%%\n"
    }
   }
  }
 ],
 "metadata": {
  "kernelspec": {
   "display_name": "Python 3",
   "language": "python",
   "name": "python3"
  },
  "language_info": {
   "codemirror_mode": {
    "name": "ipython",
    "version": 2
   },
   "file_extension": ".py",
   "mimetype": "text/x-python",
   "name": "python",
   "nbconvert_exporter": "python",
   "pygments_lexer": "ipython2",
   "version": "2.7.6"
  }
 },
 "nbformat": 4,
 "nbformat_minor": 0
}